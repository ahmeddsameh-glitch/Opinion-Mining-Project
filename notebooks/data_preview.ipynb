{
 "cells": [
  {
   "cell_type": "markdown",
   "id": "7b93828c",
   "metadata": {
    "vscode": {
     "languageId": "plaintext"
    }
   },
   "source": [
    "### 1. Gathering Data"
   ]
  },
  {
   "cell_type": "code",
   "execution_count": 1,
   "id": "d17f6eca",
   "metadata": {
    "ExecuteTime": {
     "end_time": "2025-07-25T06:41:38.697050Z",
     "start_time": "2025-07-25T06:41:38.443177Z"
    }
   },
   "outputs": [
    {
     "data": {
      "text/html": [
       "<div>\n",
       "<style scoped>\n",
       "    .dataframe tbody tr th:only-of-type {\n",
       "        vertical-align: middle;\n",
       "    }\n",
       "\n",
       "    .dataframe tbody tr th {\n",
       "        vertical-align: top;\n",
       "    }\n",
       "\n",
       "    .dataframe thead th {\n",
       "        text-align: right;\n",
       "    }\n",
       "</style>\n",
       "<table border=\"1\" class=\"dataframe\">\n",
       "  <thead>\n",
       "    <tr style=\"text-align: right;\">\n",
       "      <th></th>\n",
       "      <th>text</th>\n",
       "      <th>label</th>\n",
       "    </tr>\n",
       "  </thead>\n",
       "  <tbody>\n",
       "    <tr>\n",
       "      <th>0</th>\n",
       "      <td>I LOOOVE this product 😍😍!!! Highly recommended...</td>\n",
       "      <td>positive</td>\n",
       "    </tr>\n",
       "    <tr>\n",
       "      <th>1</th>\n",
       "      <td>Worst. Experience. Ever. Will NEVER buy again!...</td>\n",
       "      <td>negative</td>\n",
       "    </tr>\n",
       "    <tr>\n",
       "      <th>2</th>\n",
       "      <td>meh... it was okay, I guess. kinda boring tho 🙄</td>\n",
       "      <td>neutral</td>\n",
       "    </tr>\n",
       "    <tr>\n",
       "      <th>3</th>\n",
       "      <td>ABSOLUTELY AMAZING SERVICE!!! 😍💯 www.company.com</td>\n",
       "      <td>positive</td>\n",
       "    </tr>\n",
       "    <tr>\n",
       "      <th>4</th>\n",
       "      <td>@brand You guys rock! Keep it up 👏🔥🔥🔥</td>\n",
       "      <td>positive</td>\n",
       "    </tr>\n",
       "    <tr>\n",
       "      <th>5</th>\n",
       "      <td>Totally disappointed. Delivery late, product b...</td>\n",
       "      <td>negative</td>\n",
       "    </tr>\n",
       "    <tr>\n",
       "      <th>6</th>\n",
       "      <td>just okay. nothing special. 3/10 maybe 🤷‍♂️</td>\n",
       "      <td>neutral</td>\n",
       "    </tr>\n",
       "    <tr>\n",
       "      <th>7</th>\n",
       "      <td>Loved the color, but the fit was terrible :(</td>\n",
       "      <td>negative</td>\n",
       "    </tr>\n",
       "    <tr>\n",
       "      <th>8</th>\n",
       "      <td>Refunded. Not worth the price!!! http://badsho...</td>\n",
       "      <td>negative</td>\n",
       "    </tr>\n",
       "    <tr>\n",
       "      <th>9</th>\n",
       "      <td>Thanks @brand for the quick support!!</td>\n",
       "      <td>positive</td>\n",
       "    </tr>\n",
       "  </tbody>\n",
       "</table>\n",
       "</div>"
      ],
      "text/plain": [
       "                                                text     label\n",
       "0  I LOOOVE this product 😍😍!!! Highly recommended...  positive\n",
       "1  Worst. Experience. Ever. Will NEVER buy again!...  negative\n",
       "2    meh... it was okay, I guess. kinda boring tho 🙄   neutral\n",
       "3   ABSOLUTELY AMAZING SERVICE!!! 😍💯 www.company.com  positive\n",
       "4              @brand You guys rock! Keep it up 👏🔥🔥🔥  positive\n",
       "5  Totally disappointed. Delivery late, product b...  negative\n",
       "6        just okay. nothing special. 3/10 maybe 🤷‍♂️   neutral\n",
       "7       Loved the color, but the fit was terrible :(  negative\n",
       "8  Refunded. Not worth the price!!! http://badsho...  negative\n",
       "9              Thanks @brand for the quick support!!  positive"
      ]
     },
     "execution_count": 1,
     "metadata": {},
     "output_type": "execute_result"
    }
   ],
   "source": [
    "import pandas as pd \n",
    "data = {\n",
    "    \"text\": [\n",
    "        \"I LOOOVE this product 😍😍!!! Highly recommended... #awesome\",\n",
    "        \"Worst. Experience. Ever. Will NEVER buy again!!! 🤮🤬\",\n",
    "        \"meh... it was okay, I guess. kinda boring tho 🙄\",\n",
    "        \"ABSOLUTELY AMAZING SERVICE!!! 😍💯 www.company.com\",\n",
    "        \"@brand You guys rock! Keep it up 👏🔥🔥🔥\",\n",
    "        \"Totally disappointed. Delivery late, product broken. 😡\",\n",
    "        \"just okay. nothing special. 3/10 maybe 🤷‍♂️\",\n",
    "        \"Loved the color, but the fit was terrible :(\",\n",
    "        \"Refunded. Not worth the price!!! http://badshop.com\",\n",
    "        \"Thanks @brand for the quick support!!\"\n",
    "    ],\n",
    "    \"label\": [\n",
    "        \"positive\", \"negative\", \"neutral\", \"positive\", \"positive\",\n",
    "        \"negative\", \"neutral\", \"negative\", \"negative\", \"positive\"\n",
    "    ]\n",
    "}\n",
    "\n",
    "df = pd.DataFrame(data) \n",
    "df\n",
    "\n"
   ]
  },
  {
   "cell_type": "markdown",
   "id": "f30e6a64",
   "metadata": {},
   "source": [
    "### 2. Change to a csv File"
   ]
  },
  {
   "cell_type": "code",
   "execution_count": 2,
   "id": "d8911086",
   "metadata": {
    "ExecuteTime": {
     "end_time": "2025-07-25T06:41:44.118597Z",
     "start_time": "2025-07-25T06:41:44.109844Z"
    }
   },
   "outputs": [
    {
     "data": {
      "text/html": [
       "<div>\n",
       "<style scoped>\n",
       "    .dataframe tbody tr th:only-of-type {\n",
       "        vertical-align: middle;\n",
       "    }\n",
       "\n",
       "    .dataframe tbody tr th {\n",
       "        vertical-align: top;\n",
       "    }\n",
       "\n",
       "    .dataframe thead th {\n",
       "        text-align: right;\n",
       "    }\n",
       "</style>\n",
       "<table border=\"1\" class=\"dataframe\">\n",
       "  <thead>\n",
       "    <tr style=\"text-align: right;\">\n",
       "      <th></th>\n",
       "      <th>text</th>\n",
       "      <th>label</th>\n",
       "    </tr>\n",
       "  </thead>\n",
       "  <tbody>\n",
       "    <tr>\n",
       "      <th>0</th>\n",
       "      <td>I LOOOVE this product 😍😍!!! Highly recommended...</td>\n",
       "      <td>positive</td>\n",
       "    </tr>\n",
       "    <tr>\n",
       "      <th>1</th>\n",
       "      <td>Worst. Experience. Ever. Will NEVER buy again!...</td>\n",
       "      <td>negative</td>\n",
       "    </tr>\n",
       "    <tr>\n",
       "      <th>2</th>\n",
       "      <td>meh... it was okay, I guess. kinda boring tho 🙄</td>\n",
       "      <td>neutral</td>\n",
       "    </tr>\n",
       "    <tr>\n",
       "      <th>3</th>\n",
       "      <td>ABSOLUTELY AMAZING SERVICE!!! 😍💯 www.company.com</td>\n",
       "      <td>positive</td>\n",
       "    </tr>\n",
       "    <tr>\n",
       "      <th>4</th>\n",
       "      <td>@brand You guys rock! Keep it up 👏🔥🔥🔥</td>\n",
       "      <td>positive</td>\n",
       "    </tr>\n",
       "  </tbody>\n",
       "</table>\n",
       "</div>"
      ],
      "text/plain": [
       "                                                text     label\n",
       "0  I LOOOVE this product 😍😍!!! Highly recommended...  positive\n",
       "1  Worst. Experience. Ever. Will NEVER buy again!...  negative\n",
       "2    meh... it was okay, I guess. kinda boring tho 🙄   neutral\n",
       "3   ABSOLUTELY AMAZING SERVICE!!! 😍💯 www.company.com  positive\n",
       "4              @brand You guys rock! Keep it up 👏🔥🔥🔥  positive"
      ]
     },
     "execution_count": 2,
     "metadata": {},
     "output_type": "execute_result"
    }
   ],
   "source": [
    "df.to_csv('../data/test_sample.csv')\n",
    "df.head()"
   ]
  },
  {
   "cell_type": "markdown",
   "id": "35116134",
   "metadata": {},
   "source": [
    "### 3. Lowercasing"
   ]
  },
  {
   "cell_type": "code",
   "execution_count": 3,
   "id": "8d63f224",
   "metadata": {
    "ExecuteTime": {
     "end_time": "2025-07-25T06:41:48.410939Z",
     "start_time": "2025-07-25T06:41:48.403873Z"
    }
   },
   "outputs": [
    {
     "name": "stdout",
     "output_type": "stream",
     "text": [
      "<class 'pandas.core.series.Series'>\n"
     ]
    },
    {
     "data": {
      "text/html": [
       "<div>\n",
       "<style scoped>\n",
       "    .dataframe tbody tr th:only-of-type {\n",
       "        vertical-align: middle;\n",
       "    }\n",
       "\n",
       "    .dataframe tbody tr th {\n",
       "        vertical-align: top;\n",
       "    }\n",
       "\n",
       "    .dataframe thead th {\n",
       "        text-align: right;\n",
       "    }\n",
       "</style>\n",
       "<table border=\"1\" class=\"dataframe\">\n",
       "  <thead>\n",
       "    <tr style=\"text-align: right;\">\n",
       "      <th></th>\n",
       "      <th>text</th>\n",
       "      <th>clean_text</th>\n",
       "    </tr>\n",
       "  </thead>\n",
       "  <tbody>\n",
       "    <tr>\n",
       "      <th>0</th>\n",
       "      <td>I LOOOVE this product 😍😍!!! Highly recommended...</td>\n",
       "      <td>i looove this product 😍😍!!! highly recommended...</td>\n",
       "    </tr>\n",
       "    <tr>\n",
       "      <th>1</th>\n",
       "      <td>Worst. Experience. Ever. Will NEVER buy again!...</td>\n",
       "      <td>worst. experience. ever. will never buy again!...</td>\n",
       "    </tr>\n",
       "    <tr>\n",
       "      <th>2</th>\n",
       "      <td>meh... it was okay, I guess. kinda boring tho 🙄</td>\n",
       "      <td>meh... it was okay, i guess. kinda boring tho 🙄</td>\n",
       "    </tr>\n",
       "    <tr>\n",
       "      <th>3</th>\n",
       "      <td>ABSOLUTELY AMAZING SERVICE!!! 😍💯 www.company.com</td>\n",
       "      <td>absolutely amazing service!!! 😍💯 www.company.com</td>\n",
       "    </tr>\n",
       "    <tr>\n",
       "      <th>4</th>\n",
       "      <td>@brand You guys rock! Keep it up 👏🔥🔥🔥</td>\n",
       "      <td>@brand you guys rock! keep it up 👏🔥🔥🔥</td>\n",
       "    </tr>\n",
       "    <tr>\n",
       "      <th>5</th>\n",
       "      <td>Totally disappointed. Delivery late, product b...</td>\n",
       "      <td>totally disappointed. delivery late, product b...</td>\n",
       "    </tr>\n",
       "    <tr>\n",
       "      <th>6</th>\n",
       "      <td>just okay. nothing special. 3/10 maybe 🤷‍♂️</td>\n",
       "      <td>just okay. nothing special. 3/10 maybe 🤷‍♂️</td>\n",
       "    </tr>\n",
       "    <tr>\n",
       "      <th>7</th>\n",
       "      <td>Loved the color, but the fit was terrible :(</td>\n",
       "      <td>loved the color, but the fit was terrible :(</td>\n",
       "    </tr>\n",
       "    <tr>\n",
       "      <th>8</th>\n",
       "      <td>Refunded. Not worth the price!!! http://badsho...</td>\n",
       "      <td>refunded. not worth the price!!! http://badsho...</td>\n",
       "    </tr>\n",
       "    <tr>\n",
       "      <th>9</th>\n",
       "      <td>Thanks @brand for the quick support!!</td>\n",
       "      <td>thanks @brand for the quick support!!</td>\n",
       "    </tr>\n",
       "  </tbody>\n",
       "</table>\n",
       "</div>"
      ],
      "text/plain": [
       "                                                text  \\\n",
       "0  I LOOOVE this product 😍😍!!! Highly recommended...   \n",
       "1  Worst. Experience. Ever. Will NEVER buy again!...   \n",
       "2    meh... it was okay, I guess. kinda boring tho 🙄   \n",
       "3   ABSOLUTELY AMAZING SERVICE!!! 😍💯 www.company.com   \n",
       "4              @brand You guys rock! Keep it up 👏🔥🔥🔥   \n",
       "5  Totally disappointed. Delivery late, product b...   \n",
       "6        just okay. nothing special. 3/10 maybe 🤷‍♂️   \n",
       "7       Loved the color, but the fit was terrible :(   \n",
       "8  Refunded. Not worth the price!!! http://badsho...   \n",
       "9              Thanks @brand for the quick support!!   \n",
       "\n",
       "                                          clean_text  \n",
       "0  i looove this product 😍😍!!! highly recommended...  \n",
       "1  worst. experience. ever. will never buy again!...  \n",
       "2    meh... it was okay, i guess. kinda boring tho 🙄  \n",
       "3   absolutely amazing service!!! 😍💯 www.company.com  \n",
       "4              @brand you guys rock! keep it up 👏🔥🔥🔥  \n",
       "5  totally disappointed. delivery late, product b...  \n",
       "6        just okay. nothing special. 3/10 maybe 🤷‍♂️  \n",
       "7       loved the color, but the fit was terrible :(  \n",
       "8  refunded. not worth the price!!! http://badsho...  \n",
       "9              thanks @brand for the quick support!!  "
      ]
     },
     "execution_count": 3,
     "metadata": {},
     "output_type": "execute_result"
    }
   ],
   "source": [
    "df['text'] \n",
    "print(type(df['text']))  \n",
    "df['clean_text'] = df['text'].apply(lambda word:word.lower())\n",
    "df[['text', 'clean_text']]\n"
   ]
  },
  {
   "cell_type": "markdown",
   "id": "426dcdce",
   "metadata": {},
   "source": [
    "###  4. Remove Punctuation and Symbols"
   ]
  },
  {
   "cell_type": "code",
   "execution_count": 4,
   "id": "cab41b54",
   "metadata": {
    "ExecuteTime": {
     "end_time": "2025-07-25T06:41:55.233369Z",
     "start_time": "2025-07-25T06:41:55.229058Z"
    }
   },
   "outputs": [
    {
     "name": "stdout",
     "output_type": "stream",
     "text": [
      "!\"#$%&'()*+,-./:;<=>?@[\\]^_`{|}~\n"
     ]
    },
    {
     "data": {
      "text/plain": [
       "0    i looove this product 😍😍 highly recommended aw...\n",
       "1        worst experience ever will never buy again 🤮🤬\n",
       "2           meh it was okay i guess kinda boring tho 🙄\n",
       "3          absolutely amazing service 😍💯 wwwcompanycom\n",
       "4                  brand you guys rock keep it up 👏🔥🔥🔥\n",
       "5    totally disappointed delivery late product bro...\n",
       "6             just okay nothing special 310 maybe 🤷‍♂️\n",
       "7            loved the color but the fit was terrible \n",
       "8          refunded not worth the price httpbadshopcom\n",
       "9                   thanks brand for the quick support\n",
       "Name: clean_text, dtype: object"
      ]
     },
     "execution_count": 4,
     "metadata": {},
     "output_type": "execute_result"
    }
   ],
   "source": [
    "import string\n",
    "print(string.punctuation)\n",
    "mytable = str.maketrans('','',string.punctuation)\n",
    "df['clean_text'] = df['clean_text'].apply(lambda word : word.translate(mytable)) \n",
    "df['clean_text']\n"
   ]
  },
  {
   "cell_type": "markdown",
   "id": "20f365c7",
   "metadata": {},
   "source": [
    "### 5. Remove Stopwords"
   ]
  },
  {
   "cell_type": "code",
   "execution_count": 5,
   "id": "a1fb0370",
   "metadata": {
    "ExecuteTime": {
     "end_time": "2025-07-25T06:41:58.297658Z",
     "start_time": "2025-07-25T06:41:57.416841Z"
    }
   },
   "outputs": [
    {
     "name": "stdout",
     "output_type": "stream",
     "text": [
      "['a', 'about', 'above', 'after', 'again', 'against', 'ain', 'all', 'am', 'an', 'and', 'any', 'are', 'aren', \"aren't\", 'as', 'at', 'be', 'because', 'been', 'before', 'being', 'below', 'between', 'both', 'but', 'by', 'can', 'couldn', \"couldn't\", 'd', 'did', 'didn', \"didn't\", 'do', 'does', 'doesn', \"doesn't\", 'doing', 'don', \"don't\", 'down', 'during', 'each', 'few', 'for', 'from', 'further', 'had', 'hadn', \"hadn't\", 'has', 'hasn', \"hasn't\", 'have', 'haven', \"haven't\", 'having', 'he', \"he'd\", \"he'll\", 'her', 'here', 'hers', 'herself', \"he's\", 'him', 'himself', 'his', 'how', 'i', \"i'd\", 'if', \"i'll\", \"i'm\", 'in', 'into', 'is', 'isn', \"isn't\", 'it', \"it'd\", \"it'll\", \"it's\", 'its', 'itself', \"i've\", 'just', 'll', 'm', 'ma', 'me', 'mightn', \"mightn't\", 'more', 'most', 'mustn', \"mustn't\", 'my', 'myself', 'needn', \"needn't\", 'no', 'nor', 'not', 'now', 'o', 'of', 'off', 'on', 'once', 'only', 'or', 'other', 'our', 'ours', 'ourselves', 'out', 'over', 'own', 're', 's', 'same', 'shan', \"shan't\", 'she', \"she'd\", \"she'll\", \"she's\", 'should', 'shouldn', \"shouldn't\", \"should've\", 'so', 'some', 'such', 't', 'than', 'that', \"that'll\", 'the', 'their', 'theirs', 'them', 'themselves', 'then', 'there', 'these', 'they', \"they'd\", \"they'll\", \"they're\", \"they've\", 'this', 'those', 'through', 'to', 'too', 'under', 'until', 'up', 've', 'very', 'was', 'wasn', \"wasn't\", 'we', \"we'd\", \"we'll\", \"we're\", 'were', 'weren', \"weren't\", \"we've\", 'what', 'when', 'where', 'which', 'while', 'who', 'whom', 'why', 'will', 'with', 'won', \"won't\", 'wouldn', \"wouldn't\", 'y', 'you', \"you'd\", \"you'll\", 'your', \"you're\", 'yours', 'yourself', 'yourselves', \"you've\"]\n"
     ]
    },
    {
     "name": "stderr",
     "output_type": "stream",
     "text": [
      "[nltk_data] Downloading package stopwords to /home/ahmed-\n",
      "[nltk_data]     sameh/nltk_data...\n",
      "[nltk_data]   Package stopwords is already up-to-date!\n"
     ]
    },
    {
     "data": {
      "text/html": [
       "<div>\n",
       "<style scoped>\n",
       "    .dataframe tbody tr th:only-of-type {\n",
       "        vertical-align: middle;\n",
       "    }\n",
       "\n",
       "    .dataframe tbody tr th {\n",
       "        vertical-align: top;\n",
       "    }\n",
       "\n",
       "    .dataframe thead th {\n",
       "        text-align: right;\n",
       "    }\n",
       "</style>\n",
       "<table border=\"1\" class=\"dataframe\">\n",
       "  <thead>\n",
       "    <tr style=\"text-align: right;\">\n",
       "      <th></th>\n",
       "      <th>text</th>\n",
       "      <th>label</th>\n",
       "      <th>clean_text</th>\n",
       "      <th>no_stopwords</th>\n",
       "    </tr>\n",
       "  </thead>\n",
       "  <tbody>\n",
       "    <tr>\n",
       "      <th>0</th>\n",
       "      <td>I LOOOVE this product 😍😍!!! Highly recommended...</td>\n",
       "      <td>positive</td>\n",
       "      <td>i looove this product 😍😍 highly recommended aw...</td>\n",
       "      <td>loooveproduct😍😍highlyrecommendedawesome</td>\n",
       "    </tr>\n",
       "    <tr>\n",
       "      <th>1</th>\n",
       "      <td>Worst. Experience. Ever. Will NEVER buy again!...</td>\n",
       "      <td>negative</td>\n",
       "      <td>worst experience ever will never buy again 🤮🤬</td>\n",
       "      <td>worstexperienceeverneverbuy🤮🤬</td>\n",
       "    </tr>\n",
       "    <tr>\n",
       "      <th>2</th>\n",
       "      <td>meh... it was okay, I guess. kinda boring tho 🙄</td>\n",
       "      <td>neutral</td>\n",
       "      <td>meh it was okay i guess kinda boring tho 🙄</td>\n",
       "      <td>mehokayguesskindaboringtho🙄</td>\n",
       "    </tr>\n",
       "    <tr>\n",
       "      <th>3</th>\n",
       "      <td>ABSOLUTELY AMAZING SERVICE!!! 😍💯 www.company.com</td>\n",
       "      <td>positive</td>\n",
       "      <td>absolutely amazing service 😍💯 wwwcompanycom</td>\n",
       "      <td>absolutelyamazingservice😍💯wwwcompanycom</td>\n",
       "    </tr>\n",
       "    <tr>\n",
       "      <th>4</th>\n",
       "      <td>@brand You guys rock! Keep it up 👏🔥🔥🔥</td>\n",
       "      <td>positive</td>\n",
       "      <td>brand you guys rock keep it up 👏🔥🔥🔥</td>\n",
       "      <td>brandguysrockkeep👏🔥🔥🔥</td>\n",
       "    </tr>\n",
       "    <tr>\n",
       "      <th>5</th>\n",
       "      <td>Totally disappointed. Delivery late, product b...</td>\n",
       "      <td>negative</td>\n",
       "      <td>totally disappointed delivery late product bro...</td>\n",
       "      <td>totallydisappointeddeliverylateproductbroken😡</td>\n",
       "    </tr>\n",
       "    <tr>\n",
       "      <th>6</th>\n",
       "      <td>just okay. nothing special. 3/10 maybe 🤷‍♂️</td>\n",
       "      <td>neutral</td>\n",
       "      <td>just okay nothing special 310 maybe 🤷‍♂️</td>\n",
       "      <td>okaynothingspecial310maybe🤷‍♂️</td>\n",
       "    </tr>\n",
       "    <tr>\n",
       "      <th>7</th>\n",
       "      <td>Loved the color, but the fit was terrible :(</td>\n",
       "      <td>negative</td>\n",
       "      <td>loved the color but the fit was terrible</td>\n",
       "      <td>lovedcolorfitterrible</td>\n",
       "    </tr>\n",
       "    <tr>\n",
       "      <th>8</th>\n",
       "      <td>Refunded. Not worth the price!!! http://badsho...</td>\n",
       "      <td>negative</td>\n",
       "      <td>refunded not worth the price httpbadshopcom</td>\n",
       "      <td>refundedworthpricehttpbadshopcom</td>\n",
       "    </tr>\n",
       "    <tr>\n",
       "      <th>9</th>\n",
       "      <td>Thanks @brand for the quick support!!</td>\n",
       "      <td>positive</td>\n",
       "      <td>thanks brand for the quick support</td>\n",
       "      <td>thanksbrandquicksupport</td>\n",
       "    </tr>\n",
       "  </tbody>\n",
       "</table>\n",
       "</div>"
      ],
      "text/plain": [
       "                                                text     label  \\\n",
       "0  I LOOOVE this product 😍😍!!! Highly recommended...  positive   \n",
       "1  Worst. Experience. Ever. Will NEVER buy again!...  negative   \n",
       "2    meh... it was okay, I guess. kinda boring tho 🙄   neutral   \n",
       "3   ABSOLUTELY AMAZING SERVICE!!! 😍💯 www.company.com  positive   \n",
       "4              @brand You guys rock! Keep it up 👏🔥🔥🔥  positive   \n",
       "5  Totally disappointed. Delivery late, product b...  negative   \n",
       "6        just okay. nothing special. 3/10 maybe 🤷‍♂️   neutral   \n",
       "7       Loved the color, but the fit was terrible :(  negative   \n",
       "8  Refunded. Not worth the price!!! http://badsho...  negative   \n",
       "9              Thanks @brand for the quick support!!  positive   \n",
       "\n",
       "                                          clean_text  \\\n",
       "0  i looove this product 😍😍 highly recommended aw...   \n",
       "1      worst experience ever will never buy again 🤮🤬   \n",
       "2         meh it was okay i guess kinda boring tho 🙄   \n",
       "3        absolutely amazing service 😍💯 wwwcompanycom   \n",
       "4                brand you guys rock keep it up 👏🔥🔥🔥   \n",
       "5  totally disappointed delivery late product bro...   \n",
       "6           just okay nothing special 310 maybe 🤷‍♂️   \n",
       "7          loved the color but the fit was terrible    \n",
       "8        refunded not worth the price httpbadshopcom   \n",
       "9                 thanks brand for the quick support   \n",
       "\n",
       "                                    no_stopwords  \n",
       "0        loooveproduct😍😍highlyrecommendedawesome  \n",
       "1                  worstexperienceeverneverbuy🤮🤬  \n",
       "2                    mehokayguesskindaboringtho🙄  \n",
       "3        absolutelyamazingservice😍💯wwwcompanycom  \n",
       "4                          brandguysrockkeep👏🔥🔥🔥  \n",
       "5  totallydisappointeddeliverylateproductbroken😡  \n",
       "6                 okaynothingspecial310maybe🤷‍♂️  \n",
       "7                          lovedcolorfitterrible  \n",
       "8               refundedworthpricehttpbadshopcom  \n",
       "9                        thanksbrandquicksupport  "
      ]
     },
     "execution_count": 5,
     "metadata": {},
     "output_type": "execute_result"
    }
   ],
   "source": [
    "import nltk\n",
    "from nltk.corpus import stopwords\n",
    "nltk.download('stopwords')\n",
    "print(stopwords.words('english'))\n",
    "stop_words = set(stopwords.words('english'))\n",
    "df['no_stopwords'] = df['clean_text'].apply(\n",
    "  lambda text :  ''.join(word for word in text.split() if word not in stop_words)\n",
    ")\n",
    "df"
   ]
  },
  {
   "cell_type": "markdown",
   "id": "4d708e0b",
   "metadata": {},
   "source": [
    "### 6. Remove Emojis"
   ]
  },
  {
   "cell_type": "code",
   "execution_count": 7,
   "id": "851f9de1",
   "metadata": {
    "ExecuteTime": {
     "end_time": "2025-07-25T06:42:31.206016Z",
     "start_time": "2025-07-25T06:42:31.198243Z"
    }
   },
   "outputs": [
    {
     "data": {
      "text/html": [
       "<div>\n",
       "<style scoped>\n",
       "    .dataframe tbody tr th:only-of-type {\n",
       "        vertical-align: middle;\n",
       "    }\n",
       "\n",
       "    .dataframe tbody tr th {\n",
       "        vertical-align: top;\n",
       "    }\n",
       "\n",
       "    .dataframe thead th {\n",
       "        text-align: right;\n",
       "    }\n",
       "</style>\n",
       "<table border=\"1\" class=\"dataframe\">\n",
       "  <thead>\n",
       "    <tr style=\"text-align: right;\">\n",
       "      <th></th>\n",
       "      <th>text</th>\n",
       "      <th>label</th>\n",
       "      <th>clean_text</th>\n",
       "      <th>no_stopwords</th>\n",
       "      <th>no_emoji</th>\n",
       "    </tr>\n",
       "  </thead>\n",
       "  <tbody>\n",
       "    <tr>\n",
       "      <th>0</th>\n",
       "      <td>I LOOOVE this product 😍😍!!! Highly recommended...</td>\n",
       "      <td>positive</td>\n",
       "      <td>i looove this product 😍😍 highly recommended aw...</td>\n",
       "      <td>loooveproduct😍😍highlyrecommendedawesome</td>\n",
       "      <td>loooveproducthighlyrecommendedawesome</td>\n",
       "    </tr>\n",
       "    <tr>\n",
       "      <th>1</th>\n",
       "      <td>Worst. Experience. Ever. Will NEVER buy again!...</td>\n",
       "      <td>negative</td>\n",
       "      <td>worst experience ever will never buy again 🤮🤬</td>\n",
       "      <td>worstexperienceeverneverbuy🤮🤬</td>\n",
       "      <td>worstexperienceeverneverbuy</td>\n",
       "    </tr>\n",
       "    <tr>\n",
       "      <th>2</th>\n",
       "      <td>meh... it was okay, I guess. kinda boring tho 🙄</td>\n",
       "      <td>neutral</td>\n",
       "      <td>meh it was okay i guess kinda boring tho 🙄</td>\n",
       "      <td>mehokayguesskindaboringtho🙄</td>\n",
       "      <td>mehokayguesskindaboringtho</td>\n",
       "    </tr>\n",
       "    <tr>\n",
       "      <th>3</th>\n",
       "      <td>ABSOLUTELY AMAZING SERVICE!!! 😍💯 www.company.com</td>\n",
       "      <td>positive</td>\n",
       "      <td>absolutely amazing service 😍💯 wwwcompanycom</td>\n",
       "      <td>absolutelyamazingservice😍💯wwwcompanycom</td>\n",
       "      <td>absolutelyamazingservicewwwcompanycom</td>\n",
       "    </tr>\n",
       "    <tr>\n",
       "      <th>4</th>\n",
       "      <td>@brand You guys rock! Keep it up 👏🔥🔥🔥</td>\n",
       "      <td>positive</td>\n",
       "      <td>brand you guys rock keep it up 👏🔥🔥🔥</td>\n",
       "      <td>brandguysrockkeep👏🔥🔥🔥</td>\n",
       "      <td>brandguysrockkeep</td>\n",
       "    </tr>\n",
       "    <tr>\n",
       "      <th>5</th>\n",
       "      <td>Totally disappointed. Delivery late, product b...</td>\n",
       "      <td>negative</td>\n",
       "      <td>totally disappointed delivery late product bro...</td>\n",
       "      <td>totallydisappointeddeliverylateproductbroken😡</td>\n",
       "      <td>totallydisappointeddeliverylateproductbroken</td>\n",
       "    </tr>\n",
       "    <tr>\n",
       "      <th>6</th>\n",
       "      <td>just okay. nothing special. 3/10 maybe 🤷‍♂️</td>\n",
       "      <td>neutral</td>\n",
       "      <td>just okay nothing special 310 maybe 🤷‍♂️</td>\n",
       "      <td>okaynothingspecial310maybe🤷‍♂️</td>\n",
       "      <td>okaynothingspecial310maybe</td>\n",
       "    </tr>\n",
       "    <tr>\n",
       "      <th>7</th>\n",
       "      <td>Loved the color, but the fit was terrible :(</td>\n",
       "      <td>negative</td>\n",
       "      <td>loved the color but the fit was terrible</td>\n",
       "      <td>lovedcolorfitterrible</td>\n",
       "      <td>lovedcolorfitterrible</td>\n",
       "    </tr>\n",
       "    <tr>\n",
       "      <th>8</th>\n",
       "      <td>Refunded. Not worth the price!!! http://badsho...</td>\n",
       "      <td>negative</td>\n",
       "      <td>refunded not worth the price httpbadshopcom</td>\n",
       "      <td>refundedworthpricehttpbadshopcom</td>\n",
       "      <td>refundedworthpricehttpbadshopcom</td>\n",
       "    </tr>\n",
       "    <tr>\n",
       "      <th>9</th>\n",
       "      <td>Thanks @brand for the quick support!!</td>\n",
       "      <td>positive</td>\n",
       "      <td>thanks brand for the quick support</td>\n",
       "      <td>thanksbrandquicksupport</td>\n",
       "      <td>thanksbrandquicksupport</td>\n",
       "    </tr>\n",
       "  </tbody>\n",
       "</table>\n",
       "</div>"
      ],
      "text/plain": [
       "                                                text     label  \\\n",
       "0  I LOOOVE this product 😍😍!!! Highly recommended...  positive   \n",
       "1  Worst. Experience. Ever. Will NEVER buy again!...  negative   \n",
       "2    meh... it was okay, I guess. kinda boring tho 🙄   neutral   \n",
       "3   ABSOLUTELY AMAZING SERVICE!!! 😍💯 www.company.com  positive   \n",
       "4              @brand You guys rock! Keep it up 👏🔥🔥🔥  positive   \n",
       "5  Totally disappointed. Delivery late, product b...  negative   \n",
       "6        just okay. nothing special. 3/10 maybe 🤷‍♂️   neutral   \n",
       "7       Loved the color, but the fit was terrible :(  negative   \n",
       "8  Refunded. Not worth the price!!! http://badsho...  negative   \n",
       "9              Thanks @brand for the quick support!!  positive   \n",
       "\n",
       "                                          clean_text  \\\n",
       "0  i looove this product 😍😍 highly recommended aw...   \n",
       "1      worst experience ever will never buy again 🤮🤬   \n",
       "2         meh it was okay i guess kinda boring tho 🙄   \n",
       "3        absolutely amazing service 😍💯 wwwcompanycom   \n",
       "4                brand you guys rock keep it up 👏🔥🔥🔥   \n",
       "5  totally disappointed delivery late product bro...   \n",
       "6           just okay nothing special 310 maybe 🤷‍♂️   \n",
       "7          loved the color but the fit was terrible    \n",
       "8        refunded not worth the price httpbadshopcom   \n",
       "9                 thanks brand for the quick support   \n",
       "\n",
       "                                    no_stopwords  \\\n",
       "0        loooveproduct😍😍highlyrecommendedawesome   \n",
       "1                  worstexperienceeverneverbuy🤮🤬   \n",
       "2                    mehokayguesskindaboringtho🙄   \n",
       "3        absolutelyamazingservice😍💯wwwcompanycom   \n",
       "4                          brandguysrockkeep👏🔥🔥🔥   \n",
       "5  totallydisappointeddeliverylateproductbroken😡   \n",
       "6                 okaynothingspecial310maybe🤷‍♂️   \n",
       "7                          lovedcolorfitterrible   \n",
       "8               refundedworthpricehttpbadshopcom   \n",
       "9                        thanksbrandquicksupport   \n",
       "\n",
       "                                       no_emoji  \n",
       "0         loooveproducthighlyrecommendedawesome  \n",
       "1                   worstexperienceeverneverbuy  \n",
       "2                    mehokayguesskindaboringtho  \n",
       "3         absolutelyamazingservicewwwcompanycom  \n",
       "4                             brandguysrockkeep  \n",
       "5  totallydisappointeddeliverylateproductbroken  \n",
       "6                    okaynothingspecial310maybe  \n",
       "7                         lovedcolorfitterrible  \n",
       "8              refundedworthpricehttpbadshopcom  \n",
       "9                       thanksbrandquicksupport  "
      ]
     },
     "execution_count": 7,
     "metadata": {},
     "output_type": "execute_result"
    }
   ],
   "source": [
    "import emoji\n",
    "\n",
    "df['no_emoji'] = df['no_stopwords'].apply(lambda row: emoji.replace_emoji(row, replace=''))\n",
    "df\n",
    "\n"
   ]
  },
  {
   "cell_type": "markdown",
   "id": "38bd1831",
   "metadata": {},
   "source": [
    "### 7. Tokenization"
   ]
  },
  {
   "cell_type": "code",
   "execution_count": 13,
   "id": "29bee010",
   "metadata": {},
   "outputs": [
    {
     "name": "stderr",
     "output_type": "stream",
     "text": [
      "[nltk_data] Downloading package punkt to /home/ahmed-\n",
      "[nltk_data]     sameh/nltk_data...\n",
      "[nltk_data]   Package punkt is already up-to-date!\n"
     ]
    },
    {
     "name": "stdout",
     "output_type": "stream",
     "text": [
      "0    loooveproducthighlyrecommendedawesome\n",
      "1              worstexperienceeverneverbuy\n",
      "2               mehokayguesskindaboringtho\n",
      "3    absolutelyamazingservicewwwcompanycom\n",
      "4                        brandguysrockkeep\n",
      "Name: no_emoji, dtype: object\n"
     ]
    },
    {
     "data": {
      "text/plain": [
       "0      [looove, product, highly, recommended, awesome]\n",
       "1                [worst, experience, ever, never, buy]\n",
       "2               [meh, okay, guess, kinda, boring, tho]\n",
       "3    [absolutely, amazing, service, www, company, com]\n",
       "4                            [brand, guys, rock, keep]\n",
       "5    [totally, disappointed, delivery, late, produc...\n",
       "6               [okay, nothing, special, 310, may, be]\n",
       "7                        [loved, color, fit, terrible]\n",
       "8       [refunded, worth, price, http, bad, shop, com]\n",
       "9                      [thanks, brand, quick, support]\n",
       "Name: tokenized, dtype: object"
      ]
     },
     "execution_count": 13,
     "metadata": {},
     "output_type": "execute_result"
    }
   ],
   "source": [
    "import pandas as pd\n",
    "import re\n",
    "import nltk\n",
    "from nltk.tokenize import word_tokenize\n",
    "from wordsegment import load, segment\n",
    "\n",
    "# Download 'punkt' to a custom directory and append it to nltk path\n",
    "nltk.download('punkt')\n",
    "\n",
    "# Initialize wordsegment\n",
    "load()\n",
    "# Check for NaN or empty strings\n",
    "df['no_emoji'] = df['no_emoji'].fillna('').astype(str)\n",
    "print(df['no_emoji'].head())  # Confirm it prints strings like 'absolutelyamazingservice...'\n",
    "\n",
    "df['segmented'] = df['no_emoji'].apply(lambda text: ' '.join(segment(text)))\n",
    "tokenizer = lambda text: re.findall(r'\\b\\w+\\b', text.lower())\n",
    "df['tokenized'] = df['segmented'].apply(tokenizer)\n",
    "df['tokenized']\n"
   ]
  },
  {
   "cell_type": "markdown",
   "id": "898e4aac",
   "metadata": {},
   "source": [
    "### 8. Lemmatization Test"
   ]
  },
  {
   "cell_type": "code",
   "execution_count": 24,
   "id": "877d949f",
   "metadata": {},
   "outputs": [
    {
     "name": "stdout",
     "output_type": "stream",
     "text": [
      "Tokens :  ['The', 'striped', 'bats', 'are', 'hanging', 'on', 'their', 'feet', 'for', 'best']\n",
      "POS tag :  [('The', 'DT'), ('striped', 'JJ'), ('bats', 'NNS'), ('are', 'VBP'), ('hanging', 'VBG'), ('on', 'IN'), ('their', 'PRP$'), ('feet', 'NNS'), ('for', 'IN'), ('best', 'JJS')]\n",
      "<WordNetLemmatizer>\n",
      "Original: The striped bats are hanging on their feet for best\n",
      "Lemmatized: The striped bat be hang on their foot for best\n"
     ]
    },
    {
     "name": "stderr",
     "output_type": "stream",
     "text": [
      "[nltk_data] Downloading package averaged_perceptron_tagger_eng to\n",
      "[nltk_data]     /home/ahmed-sameh/nltk_data...\n",
      "[nltk_data]   Package averaged_perceptron_tagger_eng is already up-to-\n",
      "[nltk_data]       date!\n",
      "[nltk_data] Downloading package wordnet to /home/ahmed-\n",
      "[nltk_data]     sameh/nltk_data...\n",
      "[nltk_data]   Package wordnet is already up-to-date!\n",
      "[nltk_data] Downloading package punkt_tab to /home/ahmed-\n",
      "[nltk_data]     sameh/nltk_data...\n",
      "[nltk_data]   Package punkt_tab is already up-to-date!\n"
     ]
    }
   ],
   "source": [
    "from nltk.stem import WordNetLemmatizer\n",
    "from nltk import pos_tag\n",
    "from nltk.corpus import wordnet\n",
    "from nltk.tokenize import word_tokenize\n",
    "import nltk\n",
    "nltk.download('averaged_perceptron_tagger_eng')\n",
    "nltk.download('wordnet')\n",
    "nltk.download('punkt_tab')\n",
    "def get_wordnet_pos(treebank_tag):\n",
    "    # Map POS tag to WordNet POS tag for lemmatizer\n",
    "    if treebank_tag.startswith('J'):\n",
    "        return wordnet.ADJ\n",
    "    elif treebank_tag.startswith('V'):\n",
    "        return wordnet.VERB\n",
    "    elif treebank_tag.startswith('N'):\n",
    "        return wordnet.NOUN\n",
    "    elif treebank_tag.startswith('R'):\n",
    "        return wordnet.ADV\n",
    "    else:\n",
    "        return wordnet.NOUN  # default\n",
    "\n",
    "sentence = \"The striped bats are hanging on their feet for best\"\n",
    "tokens = word_tokenize(sentence)\n",
    "print(\"Tokens : \",tokens)\n",
    "#Takes a list of words (tokens) from your sentence.\n",
    "#Assigns a Part-of-Speech (POS) tag to each word, like noun, verb, adjective, etc.\n",
    "#Returns a list of tuples: (word, POS_tag) for every token.\n",
    "pos_tags = pos_tag(tokens)\n",
    "print(\"POS tag : \",pos_tags)\n",
    "lemmatizer = WordNetLemmatizer()\n",
    "print(lemmatizer)\n",
    "lemmatized_sentence = []\n",
    "for token, tag in pos_tags:\n",
    "    wn_tag = get_wordnet_pos(tag)\n",
    "    lemma = lemmatizer.lemmatize(token, wn_tag)\n",
    "    lemmatized_sentence.append(lemma)\n",
    "\n",
    "print(\"Original:\", sentence)\n",
    "print(\"Lemmatized:\", \" \".join(lemmatized_sentence))\n",
    "# \"bats\" → \"bat\"\n",
    "\n",
    "# \"are\" → \"be\"\n",
    "\n",
    "# \"hanging\" → \"hang\"\n",
    "\n",
    "# \"feet\" → \"foot\""
   ]
  }
 ],
 "metadata": {
  "kernelspec": {
   "display_name": "openv",
   "language": "python",
   "name": "python3"
  },
  "language_info": {
   "codemirror_mode": {
    "name": "ipython",
    "version": 3
   },
   "file_extension": ".py",
   "mimetype": "text/x-python",
   "name": "python",
   "nbconvert_exporter": "python",
   "pygments_lexer": "ipython3",
   "version": "3.12.3"
  }
 },
 "nbformat": 4,
 "nbformat_minor": 5
}
