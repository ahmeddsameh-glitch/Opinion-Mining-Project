{
 "cells": [
  {
   "cell_type": "markdown",
   "id": "4447df8f",
   "metadata": {},
   "source": [
    "# Opinion Positivity and Training models with ML Algorithoms"
   ]
  },
  {
   "cell_type": "markdown",
   "id": "e77c139a",
   "metadata": {},
   "source": [
    "### 1. Gathering Data"
   ]
  },
  {
   "cell_type": "code",
   "execution_count": null,
   "id": "7b1a8b43",
   "metadata": {},
   "outputs": [],
   "source": [
    "import pandas as pd\n",
    "\n",
    "\n",
    "# Path to your CSV file\n",
    "csv_file = '../../data/test_sample.csv'\n",
    "csv_file_bow = '../../data/bow_features.csv'\n",
    "# Read CSV into a DataFrame\n",
    "df = pd.read_csv(csv_file)\n",
    "\n",
    "df_bow= pd.read_csv(csv_file_bow)\n",
    "df"
   ]
  },
  {
   "cell_type": "markdown",
   "id": "982c89a8",
   "metadata": {},
   "source": [
    "### 2. Opinion Positivity Testing"
   ]
  },
  {
   "cell_type": "code",
   "execution_count": null,
   "id": "0b03bac0",
   "metadata": {},
   "outputs": [],
   "source": [
    "from textblob import TextBlob\n",
    "def get_sentiment(text):\n",
    "    blob = TextBlob(text)\n",
    "    polarity = blob.sentiment.polarity\n",
    "    return 'positive' if polarity > 0 else 'negative' if polarity < 0 else 'neutral'\n",
    "\n",
    "df['label'] = df['text'].apply(get_sentiment)\n",
    "df['label']\n",
    "df"
   ]
  },
  {
   "cell_type": "markdown",
   "id": "535d28d9",
   "metadata": {},
   "source": [
    "### 3. Change data to a real sentiment one"
   ]
  },
  {
   "cell_type": "code",
   "execution_count": 23,
   "id": "0c7b5bb8",
   "metadata": {},
   "outputs": [],
   "source": [
    "df.to_csv('../../data/test_sample.csv')"
   ]
  },
  {
   "cell_type": "markdown",
   "id": "fd0d2860",
   "metadata": {},
   "source": [
    "### 4. Connect BOW + Logisctic Regression"
   ]
  },
  {
   "cell_type": "code",
   "execution_count": null,
   "id": "e777610f",
   "metadata": {},
   "outputs": [],
   "source": [
    "import pandas as pd\n",
    "from sklearn.feature_extraction.text import TfidfVectorizer  # better for big data\n",
    "from sklearn.linear_model import LogisticRegression\n",
    "from sklearn.model_selection import train_test_split\n",
    "from sklearn.preprocessing import LabelEncoder\n",
    "from sklearn.metrics import accuracy_score, classification_report\n",
    "\n",
    "# Suppose your data is in df with columns: 'text' and 'label'\n",
    "# df = your large dataframe\n",
    "\n",
    "# For demo, here is just a small sample (replace with your actual df)\n",
    "# df = pd.read_csv('your_large_dataset.csv')\n",
    "\n",
    "# 1. Encode labels\n",
    "le = LabelEncoder()\n",
    "y = le.fit_transform(df['label'])\n",
    "\n",
    "# 2. Vectorize text data efficiently\n",
    "vectorizer = TfidfVectorizer(\n",
    "    max_features=100000,\n",
    "    ngram_range=(1,2),\n",
    "    max_df=1.0,  # no upper pruning\n",
    "    min_df=1     # no lower pruning\n",
    ")\n",
    "X = vectorizer.fit_transform(df['clean_text'])\n",
    "\n",
    "\n",
    "# 3. Split into train/test (e.g., 90/10 split for large dataset)\n",
    "X_train, X_test, y_train, y_test = train_test_split(\n",
    "    X, y, test_size=0.1, random_state=42, stratify=y\n",
    ")\n",
    "\n",
    "# 4. Initialize logistic regression with solver that handles large sparse data well\n",
    "model = LogisticRegression(\n",
    "    max_iter=1000,\n",
    "    solver='saga',        # good for large sparse datasets\n",
    "    n_jobs=-1,            # use all CPUs\n",
    "    verbose=1             # print progress\n",
    ")\n",
    "\n",
    "# 5. Train the model\n",
    "model.fit(X_train, y_train)\n",
    "\n",
    "# 6. Predict and evaluate\n",
    "y_pred = model.predict(X_test)\n",
    "\n",
    "print(\"Accuracy:\", accuracy_score(y_test, y_pred))\n",
    "print(classification_report(y_test, y_pred, target_names=le.classes_))\n"
   ]
  }
 ],
 "metadata": {
  "kernelspec": {
   "display_name": "openv",
   "language": "python",
   "name": "python3"
  },
  "language_info": {
   "codemirror_mode": {
    "name": "ipython",
    "version": 3
   },
   "file_extension": ".py",
   "mimetype": "text/x-python",
   "name": "python",
   "nbconvert_exporter": "python",
   "pygments_lexer": "ipython3",
   "version": "3.10.12"
  }
 },
 "nbformat": 4,
 "nbformat_minor": 5
}
