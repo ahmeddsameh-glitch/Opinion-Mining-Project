{
 "cells": [
  {
   "cell_type": "markdown",
   "id": "bf156a75",
   "metadata": {},
   "source": [
    "#   Text Representation"
   ]
  },
  {
   "cell_type": "markdown",
   "id": "6ccdd60c",
   "metadata": {},
   "source": [
    "### 1.Gathering Data    "
   ]
  },
  {
   "cell_type": "code",
   "execution_count": 2,
   "id": "b13a8e07",
   "metadata": {},
   "outputs": [
    {
     "data": {
      "text/plain": [
       "0    ['subj']\n",
       "1    ['subj']\n",
       "2    ['subj']\n",
       "3    ['subj']\n",
       "4     ['obj']\n",
       "5    ['subj']\n",
       "6    ['subj']\n",
       "7    ['subj']\n",
       "8     ['obj']\n",
       "9    ['subj']\n",
       "Name: sentence_subjectivity, dtype: object"
      ]
     },
     "execution_count": 2,
     "metadata": {},
     "output_type": "execute_result"
    }
   ],
   "source": [
    "import pandas as pd\n",
    "\n",
    "# Path to your CSV file\n",
    "csv_file = '../../data/test_sample.csv'\n",
    "\n",
    "# Read CSV into a DataFrame\n",
    "df = pd.read_csv(csv_file)\n",
    "\n",
    "df\n",
    "df[\"lemmatized\"]\n",
    "df[\"sentence_subjectivity\"]"
   ]
  }
 ],
 "metadata": {
  "kernelspec": {
   "display_name": "venv (3.11.3)",
   "language": "python",
   "name": "python3"
  },
  "language_info": {
   "codemirror_mode": {
    "name": "ipython",
    "version": 3
   },
   "file_extension": ".py",
   "mimetype": "text/x-python",
   "name": "python",
   "nbconvert_exporter": "python",
   "pygments_lexer": "ipython3",
   "version": "3.11.3"
  }
 },
 "nbformat": 4,
 "nbformat_minor": 5
}
