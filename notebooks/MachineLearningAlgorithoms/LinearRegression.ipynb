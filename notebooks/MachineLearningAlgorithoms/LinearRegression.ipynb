{
 "cells": [
  {
   "cell_type": "markdown",
   "id": "1c6c6b1b",
   "metadata": {},
   "source": [
    "# Linear Regression"
   ]
  },
  {
   "cell_type": "markdown",
   "id": "25196fbe",
   "metadata": {},
   "source": [
    "### 1. Gather Data"
   ]
  },
  {
   "cell_type": "code",
   "execution_count": 7,
   "id": "60c244e6",
   "metadata": {},
   "outputs": [],
   "source": [
    "import pandas as pd\n",
    "import scipy.sparse\n",
    "\n",
    "# Path to your CSV file\n",
    "csv_file = '../../data/data_processed.csv'\n",
    "csv_file_bow = '../../data/bow_features.csv'\n",
    "# Read CSV into a DataFrame\n",
    "df = pd.read_csv(csv_file)\n",
    "df\n",
    "X_bow = scipy.sparse.load_npz(\"../../data/bow_features.npz\")\n"
   ]
  },
  {
   "cell_type": "markdown",
   "id": "8bffad4a",
   "metadata": {},
   "source": [
    "### 2. Convert labels to numeric scores"
   ]
  },
  {
   "cell_type": "code",
   "execution_count": 21,
   "id": "60d85f5d",
   "metadata": {},
   "outputs": [
    {
     "data": {
      "text/html": [
       "<div>\n",
       "<style scoped>\n",
       "    .dataframe tbody tr th:only-of-type {\n",
       "        vertical-align: middle;\n",
       "    }\n",
       "\n",
       "    .dataframe tbody tr th {\n",
       "        vertical-align: top;\n",
       "    }\n",
       "\n",
       "    .dataframe thead th {\n",
       "        text-align: right;\n",
       "    }\n",
       "</style>\n",
       "<table border=\"1\" class=\"dataframe\">\n",
       "  <thead>\n",
       "    <tr style=\"text-align: right;\">\n",
       "      <th></th>\n",
       "      <th>Unnamed: 0</th>\n",
       "      <th>review</th>\n",
       "      <th>sentiment</th>\n",
       "      <th>clean_text</th>\n",
       "      <th>no_stopwords</th>\n",
       "      <th>tokenized</th>\n",
       "      <th>lemmatized</th>\n",
       "      <th>sentiment_score</th>\n",
       "    </tr>\n",
       "  </thead>\n",
       "  <tbody>\n",
       "    <tr>\n",
       "      <th>0</th>\n",
       "      <td>0</td>\n",
       "      <td>\"Paula, I may be a bitch, but I'll never be a ...</td>\n",
       "      <td>negative</td>\n",
       "      <td>paula i may be a bitch but ill never be a butc...</td>\n",
       "      <td>paula may bitch ill never butch br br hilariou...</td>\n",
       "      <td>['paula', 'may', 'bitch', 'ill', 'never', 'but...</td>\n",
       "      <td>paula may bitch ill never butch br br hilariou...</td>\n",
       "      <td>0</td>\n",
       "    </tr>\n",
       "    <tr>\n",
       "      <th>1</th>\n",
       "      <td>1</td>\n",
       "      <td>Many people here say that this show is for kid...</td>\n",
       "      <td>negative</td>\n",
       "      <td>many people here say that this show is for kid...</td>\n",
       "      <td>many people say show kids hm kid approximately...</td>\n",
       "      <td>['many', 'people', 'say', 'show', 'kids', 'hm'...</td>\n",
       "      <td>many people say show kid hm kid approximately ...</td>\n",
       "      <td>0</td>\n",
       "    </tr>\n",
       "    <tr>\n",
       "      <th>2</th>\n",
       "      <td>2</td>\n",
       "      <td>This was a well written tale of the Making of ...</td>\n",
       "      <td>positive</td>\n",
       "      <td>this was a well written tale of the making of ...</td>\n",
       "      <td>well written tale making batman sitcom actuall...</td>\n",
       "      <td>['well', 'written', 'tale', 'making', 'batman'...</td>\n",
       "      <td>well write tale make batman sitcom actually re...</td>\n",
       "      <td>2</td>\n",
       "    </tr>\n",
       "    <tr>\n",
       "      <th>3</th>\n",
       "      <td>3</td>\n",
       "      <td>I think this movie is absolutely beautiful. An...</td>\n",
       "      <td>positive</td>\n",
       "      <td>i think this movie is absolutely beautiful and...</td>\n",
       "      <td>think movie absolutely beautiful im not referr...</td>\n",
       "      <td>['think', 'movie', 'absolutely', 'beautiful', ...</td>\n",
       "      <td>think movie absolutely beautiful im not refer ...</td>\n",
       "      <td>2</td>\n",
       "    </tr>\n",
       "    <tr>\n",
       "      <th>4</th>\n",
       "      <td>4</td>\n",
       "      <td>The film was very outstanding despite the NC-1...</td>\n",
       "      <td>positive</td>\n",
       "      <td>the film was very outstanding despite the nc17...</td>\n",
       "      <td>film outstanding despite nc17 rating disturbin...</td>\n",
       "      <td>['film', 'outstanding', 'despite', 'nc17', 'ra...</td>\n",
       "      <td>film outstanding despite nc17 rating disturb s...</td>\n",
       "      <td>2</td>\n",
       "    </tr>\n",
       "    <tr>\n",
       "      <th>...</th>\n",
       "      <td>...</td>\n",
       "      <td>...</td>\n",
       "      <td>...</td>\n",
       "      <td>...</td>\n",
       "      <td>...</td>\n",
       "      <td>...</td>\n",
       "      <td>...</td>\n",
       "      <td>...</td>\n",
       "    </tr>\n",
       "    <tr>\n",
       "      <th>59995</th>\n",
       "      <td>59995</td>\n",
       "      <td>Nothing special.</td>\n",
       "      <td>neutral</td>\n",
       "      <td>nothing special</td>\n",
       "      <td>nothing special</td>\n",
       "      <td>['nothing', 'special']</td>\n",
       "      <td>nothing special</td>\n",
       "      <td>1</td>\n",
       "    </tr>\n",
       "    <tr>\n",
       "      <th>59996</th>\n",
       "      <td>59996</td>\n",
       "      <td>Avoid this one! It is a terrible movie. So wha...</td>\n",
       "      <td>negative</td>\n",
       "      <td>avoid this one it is a terrible movie so what ...</td>\n",
       "      <td>avoid one terrible movie exciting pointless mu...</td>\n",
       "      <td>['avoid', 'one', 'terrible', 'movie', 'excitin...</td>\n",
       "      <td>avoid one terrible movie excite pointless murd...</td>\n",
       "      <td>0</td>\n",
       "    </tr>\n",
       "    <tr>\n",
       "      <th>59997</th>\n",
       "      <td>59997</td>\n",
       "      <td>This production was quite a surprise for me. I...</td>\n",
       "      <td>positive</td>\n",
       "      <td>this production was quite a surprise for me i ...</td>\n",
       "      <td>production quite surprise absolutely love obsc...</td>\n",
       "      <td>['production', 'quite', 'surprise', 'absolutel...</td>\n",
       "      <td>production quite surprise absolutely love obsc...</td>\n",
       "      <td>2</td>\n",
       "    </tr>\n",
       "    <tr>\n",
       "      <th>59998</th>\n",
       "      <td>59998</td>\n",
       "      <td>This is a decent movie. Although little bit sh...</td>\n",
       "      <td>positive</td>\n",
       "      <td>this is a decent movie although little bit sho...</td>\n",
       "      <td>decent movie although little bit short time pa...</td>\n",
       "      <td>['decent', 'movie', 'although', 'little', 'bit...</td>\n",
       "      <td>decent movie although little bit short time pa...</td>\n",
       "      <td>2</td>\n",
       "    </tr>\n",
       "    <tr>\n",
       "      <th>59999</th>\n",
       "      <td>59999</td>\n",
       "      <td>Satisfactory.</td>\n",
       "      <td>neutral</td>\n",
       "      <td>satisfactory</td>\n",
       "      <td>satisfactory</td>\n",
       "      <td>['satisfactory']</td>\n",
       "      <td>satisfactory</td>\n",
       "      <td>1</td>\n",
       "    </tr>\n",
       "  </tbody>\n",
       "</table>\n",
       "<p>60000 rows × 8 columns</p>\n",
       "</div>"
      ],
      "text/plain": [
       "       Unnamed: 0                                             review  \\\n",
       "0               0  \"Paula, I may be a bitch, but I'll never be a ...   \n",
       "1               1  Many people here say that this show is for kid...   \n",
       "2               2  This was a well written tale of the Making of ...   \n",
       "3               3  I think this movie is absolutely beautiful. An...   \n",
       "4               4  The film was very outstanding despite the NC-1...   \n",
       "...           ...                                                ...   \n",
       "59995       59995                                   Nothing special.   \n",
       "59996       59996  Avoid this one! It is a terrible movie. So wha...   \n",
       "59997       59997  This production was quite a surprise for me. I...   \n",
       "59998       59998  This is a decent movie. Although little bit sh...   \n",
       "59999       59999                                      Satisfactory.   \n",
       "\n",
       "      sentiment                                         clean_text  \\\n",
       "0      negative  paula i may be a bitch but ill never be a butc...   \n",
       "1      negative  many people here say that this show is for kid...   \n",
       "2      positive  this was a well written tale of the making of ...   \n",
       "3      positive  i think this movie is absolutely beautiful and...   \n",
       "4      positive  the film was very outstanding despite the nc17...   \n",
       "...         ...                                                ...   \n",
       "59995   neutral                                    nothing special   \n",
       "59996  negative  avoid this one it is a terrible movie so what ...   \n",
       "59997  positive  this production was quite a surprise for me i ...   \n",
       "59998  positive  this is a decent movie although little bit sho...   \n",
       "59999   neutral                                       satisfactory   \n",
       "\n",
       "                                            no_stopwords  \\\n",
       "0      paula may bitch ill never butch br br hilariou...   \n",
       "1      many people say show kids hm kid approximately...   \n",
       "2      well written tale making batman sitcom actuall...   \n",
       "3      think movie absolutely beautiful im not referr...   \n",
       "4      film outstanding despite nc17 rating disturbin...   \n",
       "...                                                  ...   \n",
       "59995                                    nothing special   \n",
       "59996  avoid one terrible movie exciting pointless mu...   \n",
       "59997  production quite surprise absolutely love obsc...   \n",
       "59998  decent movie although little bit short time pa...   \n",
       "59999                                       satisfactory   \n",
       "\n",
       "                                               tokenized  \\\n",
       "0      ['paula', 'may', 'bitch', 'ill', 'never', 'but...   \n",
       "1      ['many', 'people', 'say', 'show', 'kids', 'hm'...   \n",
       "2      ['well', 'written', 'tale', 'making', 'batman'...   \n",
       "3      ['think', 'movie', 'absolutely', 'beautiful', ...   \n",
       "4      ['film', 'outstanding', 'despite', 'nc17', 'ra...   \n",
       "...                                                  ...   \n",
       "59995                             ['nothing', 'special']   \n",
       "59996  ['avoid', 'one', 'terrible', 'movie', 'excitin...   \n",
       "59997  ['production', 'quite', 'surprise', 'absolutel...   \n",
       "59998  ['decent', 'movie', 'although', 'little', 'bit...   \n",
       "59999                                   ['satisfactory']   \n",
       "\n",
       "                                              lemmatized  sentiment_score  \n",
       "0      paula may bitch ill never butch br br hilariou...                0  \n",
       "1      many people say show kid hm kid approximately ...                0  \n",
       "2      well write tale make batman sitcom actually re...                2  \n",
       "3      think movie absolutely beautiful im not refer ...                2  \n",
       "4      film outstanding despite nc17 rating disturb s...                2  \n",
       "...                                                  ...              ...  \n",
       "59995                                    nothing special                1  \n",
       "59996  avoid one terrible movie excite pointless murd...                0  \n",
       "59997  production quite surprise absolutely love obsc...                2  \n",
       "59998  decent movie although little bit short time pa...                2  \n",
       "59999                                       satisfactory                1  \n",
       "\n",
       "[60000 rows x 8 columns]"
      ]
     },
     "execution_count": 21,
     "metadata": {},
     "output_type": "execute_result"
    }
   ],
   "source": [
    "# Convert label to sentiment score\n",
    "def label_to_score(label):\n",
    "    if label == 'positive':\n",
    "        return 2\n",
    "    elif label == 'neutral':\n",
    "        return 1\n",
    "    elif label == 'negative':\n",
    "        return 0\n",
    "    else:\n",
    "        return 1  \n",
    "\n",
    "df['sentiment_score'] = df['sentiment'].apply(label_to_score)\n",
    "df\n"
   ]
  },
  {
   "cell_type": "markdown",
   "id": "9b1f35fc",
   "metadata": {},
   "source": [
    "### 3.Feature Extraction from Text"
   ]
  },
  {
   "cell_type": "code",
   "execution_count": 22,
   "id": "35b77349",
   "metadata": {},
   "outputs": [],
   "source": [
    "from sklearn.feature_extraction.text import TfidfVectorizer\n",
    "\n",
    "vectorizer = TfidfVectorizer()\n",
    "X = vectorizer.fit_transform(df['lemmatized'])  # or 'tokenized'\n",
    "y = df['sentiment_score']"
   ]
  },
  {
   "cell_type": "markdown",
   "id": "4f2d440b",
   "metadata": {},
   "source": [
    "### 4.Apply Linear Regression"
   ]
  },
  {
   "cell_type": "code",
   "execution_count": 23,
   "id": "30240161",
   "metadata": {},
   "outputs": [
    {
     "name": "stdout",
     "output_type": "stream",
     "text": [
      "Mean Squared Error: 0.7185850572339773\n"
     ]
    }
   ],
   "source": [
    "from sklearn.linear_model import LinearRegression\n",
    "from sklearn.model_selection import train_test_split\n",
    "from sklearn.metrics import mean_squared_error\n",
    "X_train, X_test, y_train, y_test = train_test_split(X, y, test_size=0.1, random_state=42)\n",
    "model = LinearRegression()\n",
    "model.fit(X_train, y_train)\n",
    "y_pred = model.predict(X_test)\n",
    "mse = mean_squared_error(y_test, y_pred)\n",
    "print(\"Mean Squared Error:\", mse)"
   ]
  },
  {
   "cell_type": "markdown",
   "id": "4bf49c48",
   "metadata": {},
   "source": [
    "### 5. Check how good is the model"
   ]
  },
  {
   "cell_type": "code",
   "execution_count": 24,
   "id": "14108781",
   "metadata": {},
   "outputs": [
    {
     "name": "stdout",
     "output_type": "stream",
     "text": [
      "R2 Score: 0.13470562800829677\n",
      "Accuracy: 0.5181666666666667\n"
     ]
    }
   ],
   "source": [
    "\n",
    "from sklearn.metrics import r2_score, accuracy_score\n",
    "import numpy as np\n",
    "\n",
    "# If your predictions are stored in `predictions`\n",
    "# and your test labels are in `y_test`\n",
    "print(\"R2 Score:\", r2_score(y_test, y_pred))\n",
    "\n",
    "# If using sentiment as classes (-1, 0, 1)\n",
    "rounded_preds = np.round(y_pred)\n",
    "print(\"Accuracy:\", accuracy_score(y_test, rounded_preds))\n"
   ]
  },
  {
   "cell_type": "markdown",
   "id": "2947520a",
   "metadata": {},
   "source": [
    "### 6. Plot actual vs. predicted"
   ]
  },
  {
   "cell_type": "code",
   "execution_count": 16,
   "id": "7961cbb1",
   "metadata": {},
   "outputs": [
    {
     "data": {
      "image/png": "[encoded data removed]",
      "text/plain": [
       "<Figure size 640x480 with 1 Axes>"
      ]
     },
     "metadata": {},
     "output_type": "display_data"
    }
   ],
   "source": [
    "import matplotlib.pyplot as plt\n",
    "\n",
    "plt.scatter(y_test, y_pred)\n",
    "plt.xlabel(\"Actual Sentiment\")\n",
    "plt.ylabel(\"Predicted Sentiment\")\n",
    "plt.title(\"Actual vs Predicted Sentiment\")\n",
    "plt.grid(True)\n",
    "plt.show()\n"
   ]
  }
 ],
 "metadata": {
  "kernelspec": {
   "display_name": "openv",
   "language": "python",
   "name": "python3"
  },
  "language_info": {
   "codemirror_mode": {
    "name": "ipython",
    "version": 3
   },
   "file_extension": ".py",
   "mimetype": "text/x-python",
   "name": "python",
   "nbconvert_exporter": "python",
   "pygments_lexer": "ipython3",
   "version": "3.12.3"
  }
 },
 "nbformat": 4,
 "nbformat_minor": 5
}
