{
 "cells": [
  {
   "cell_type": "markdown",
   "id": "b282e685",
   "metadata": {},
   "source": [
    "### 1.Import "
   ]
  },
  {
   "cell_type": "code",
   "execution_count": 1,
   "id": "e16f5b28",
   "metadata": {},
   "outputs": [],
   "source": [
    "import pandas as pd\n",
    "from sklearn.feature_extraction.text import TfidfVectorizer\n",
    "from sklearn.model_selection import train_test_split\n",
    "from sklearn.svm import SVC, LinearSVC\n",
    "from sklearn.metrics import classification_report, accuracy_score, confusion_matrix\n",
    "import seaborn as sns\n",
    "import matplotlib.pyplot as plt\n"
   ]
  },
  {
   "cell_type": "markdown",
   "id": "5c59dad5",
   "metadata": {},
   "source": [
    "### 2.Load & Prepare Data"
   ]
  },
  {
   "cell_type": "code",
   "execution_count": 2,
   "id": "7c9a9d0a",
   "metadata": {},
   "outputs": [
    {
     "data": {
      "text/html": [
       "<div>\n",
       "<style scoped>\n",
       "    .dataframe tbody tr th:only-of-type {\n",
       "        vertical-align: middle;\n",
       "    }\n",
       "\n",
       "    .dataframe tbody tr th {\n",
       "        vertical-align: top;\n",
       "    }\n",
       "\n",
       "    .dataframe thead th {\n",
       "        text-align: right;\n",
       "    }\n",
       "</style>\n",
       "<table border=\"1\" class=\"dataframe\">\n",
       "  <thead>\n",
       "    <tr style=\"text-align: right;\">\n",
       "      <th></th>\n",
       "      <th>Unnamed: 0</th>\n",
       "      <th>review</th>\n",
       "      <th>sentiment</th>\n",
       "      <th>clean_text</th>\n",
       "      <th>no_stopwords</th>\n",
       "      <th>tokenized</th>\n",
       "      <th>lemmatized</th>\n",
       "    </tr>\n",
       "  </thead>\n",
       "  <tbody>\n",
       "    <tr>\n",
       "      <th>0</th>\n",
       "      <td>0</td>\n",
       "      <td>\"Paula, I may be a bitch, but I'll never be a ...</td>\n",
       "      <td>negative</td>\n",
       "      <td>paula i may be a bitch but ill never be a butc...</td>\n",
       "      <td>paula may bitch ill never butch br br hilariou...</td>\n",
       "      <td>['paula', 'may', 'bitch', 'ill', 'never', 'but...</td>\n",
       "      <td>paula may bitch ill never butch br br hilariou...</td>\n",
       "    </tr>\n",
       "    <tr>\n",
       "      <th>1</th>\n",
       "      <td>1</td>\n",
       "      <td>Many people here say that this show is for kid...</td>\n",
       "      <td>negative</td>\n",
       "      <td>many people here say that this show is for kid...</td>\n",
       "      <td>many people say show kids hm kid approximately...</td>\n",
       "      <td>['many', 'people', 'say', 'show', 'kids', 'hm'...</td>\n",
       "      <td>many people say show kid hm kid approximately ...</td>\n",
       "    </tr>\n",
       "    <tr>\n",
       "      <th>2</th>\n",
       "      <td>2</td>\n",
       "      <td>This was a well written tale of the Making of ...</td>\n",
       "      <td>positive</td>\n",
       "      <td>this was a well written tale of the making of ...</td>\n",
       "      <td>well written tale making batman sitcom actuall...</td>\n",
       "      <td>['well', 'written', 'tale', 'making', 'batman'...</td>\n",
       "      <td>well write tale make batman sitcom actually re...</td>\n",
       "    </tr>\n",
       "    <tr>\n",
       "      <th>3</th>\n",
       "      <td>3</td>\n",
       "      <td>I think this movie is absolutely beautiful. An...</td>\n",
       "      <td>positive</td>\n",
       "      <td>i think this movie is absolutely beautiful and...</td>\n",
       "      <td>think movie absolutely beautiful im not referr...</td>\n",
       "      <td>['think', 'movie', 'absolutely', 'beautiful', ...</td>\n",
       "      <td>think movie absolutely beautiful im not refer ...</td>\n",
       "    </tr>\n",
       "    <tr>\n",
       "      <th>4</th>\n",
       "      <td>4</td>\n",
       "      <td>The film was very outstanding despite the NC-1...</td>\n",
       "      <td>positive</td>\n",
       "      <td>the film was very outstanding despite the nc17...</td>\n",
       "      <td>film outstanding despite nc17 rating disturbin...</td>\n",
       "      <td>['film', 'outstanding', 'despite', 'nc17', 'ra...</td>\n",
       "      <td>film outstanding despite nc17 rating disturb s...</td>\n",
       "    </tr>\n",
       "    <tr>\n",
       "      <th>...</th>\n",
       "      <td>...</td>\n",
       "      <td>...</td>\n",
       "      <td>...</td>\n",
       "      <td>...</td>\n",
       "      <td>...</td>\n",
       "      <td>...</td>\n",
       "      <td>...</td>\n",
       "    </tr>\n",
       "    <tr>\n",
       "      <th>59995</th>\n",
       "      <td>59995</td>\n",
       "      <td>Nothing special.</td>\n",
       "      <td>neutral</td>\n",
       "      <td>nothing special</td>\n",
       "      <td>nothing special</td>\n",
       "      <td>['nothing', 'special']</td>\n",
       "      <td>nothing special</td>\n",
       "    </tr>\n",
       "    <tr>\n",
       "      <th>59996</th>\n",
       "      <td>59996</td>\n",
       "      <td>Avoid this one! It is a terrible movie. So wha...</td>\n",
       "      <td>negative</td>\n",
       "      <td>avoid this one it is a terrible movie so what ...</td>\n",
       "      <td>avoid one terrible movie exciting pointless mu...</td>\n",
       "      <td>['avoid', 'one', 'terrible', 'movie', 'excitin...</td>\n",
       "      <td>avoid one terrible movie excite pointless murd...</td>\n",
       "    </tr>\n",
       "    <tr>\n",
       "      <th>59997</th>\n",
       "      <td>59997</td>\n",
       "      <td>This production was quite a surprise for me. I...</td>\n",
       "      <td>positive</td>\n",
       "      <td>this production was quite a surprise for me i ...</td>\n",
       "      <td>production quite surprise absolutely love obsc...</td>\n",
       "      <td>['production', 'quite', 'surprise', 'absolutel...</td>\n",
       "      <td>production quite surprise absolutely love obsc...</td>\n",
       "    </tr>\n",
       "    <tr>\n",
       "      <th>59998</th>\n",
       "      <td>59998</td>\n",
       "      <td>This is a decent movie. Although little bit sh...</td>\n",
       "      <td>positive</td>\n",
       "      <td>this is a decent movie although little bit sho...</td>\n",
       "      <td>decent movie although little bit short time pa...</td>\n",
       "      <td>['decent', 'movie', 'although', 'little', 'bit...</td>\n",
       "      <td>decent movie although little bit short time pa...</td>\n",
       "    </tr>\n",
       "    <tr>\n",
       "      <th>59999</th>\n",
       "      <td>59999</td>\n",
       "      <td>Satisfactory.</td>\n",
       "      <td>neutral</td>\n",
       "      <td>satisfactory</td>\n",
       "      <td>satisfactory</td>\n",
       "      <td>['satisfactory']</td>\n",
       "      <td>satisfactory</td>\n",
       "    </tr>\n",
       "  </tbody>\n",
       "</table>\n",
       "<p>60000 rows × 7 columns</p>\n",
       "</div>"
      ],
      "text/plain": [
       "       Unnamed: 0                                             review  \\\n",
       "0               0  \"Paula, I may be a bitch, but I'll never be a ...   \n",
       "1               1  Many people here say that this show is for kid...   \n",
       "2               2  This was a well written tale of the Making of ...   \n",
       "3               3  I think this movie is absolutely beautiful. An...   \n",
       "4               4  The film was very outstanding despite the NC-1...   \n",
       "...           ...                                                ...   \n",
       "59995       59995                                   Nothing special.   \n",
       "59996       59996  Avoid this one! It is a terrible movie. So wha...   \n",
       "59997       59997  This production was quite a surprise for me. I...   \n",
       "59998       59998  This is a decent movie. Although little bit sh...   \n",
       "59999       59999                                      Satisfactory.   \n",
       "\n",
       "      sentiment                                         clean_text  \\\n",
       "0      negative  paula i may be a bitch but ill never be a butc...   \n",
       "1      negative  many people here say that this show is for kid...   \n",
       "2      positive  this was a well written tale of the making of ...   \n",
       "3      positive  i think this movie is absolutely beautiful and...   \n",
       "4      positive  the film was very outstanding despite the nc17...   \n",
       "...         ...                                                ...   \n",
       "59995   neutral                                    nothing special   \n",
       "59996  negative  avoid this one it is a terrible movie so what ...   \n",
       "59997  positive  this production was quite a surprise for me i ...   \n",
       "59998  positive  this is a decent movie although little bit sho...   \n",
       "59999   neutral                                       satisfactory   \n",
       "\n",
       "                                            no_stopwords  \\\n",
       "0      paula may bitch ill never butch br br hilariou...   \n",
       "1      many people say show kids hm kid approximately...   \n",
       "2      well written tale making batman sitcom actuall...   \n",
       "3      think movie absolutely beautiful im not referr...   \n",
       "4      film outstanding despite nc17 rating disturbin...   \n",
       "...                                                  ...   \n",
       "59995                                    nothing special   \n",
       "59996  avoid one terrible movie exciting pointless mu...   \n",
       "59997  production quite surprise absolutely love obsc...   \n",
       "59998  decent movie although little bit short time pa...   \n",
       "59999                                       satisfactory   \n",
       "\n",
       "                                               tokenized  \\\n",
       "0      ['paula', 'may', 'bitch', 'ill', 'never', 'but...   \n",
       "1      ['many', 'people', 'say', 'show', 'kids', 'hm'...   \n",
       "2      ['well', 'written', 'tale', 'making', 'batman'...   \n",
       "3      ['think', 'movie', 'absolutely', 'beautiful', ...   \n",
       "4      ['film', 'outstanding', 'despite', 'nc17', 'ra...   \n",
       "...                                                  ...   \n",
       "59995                             ['nothing', 'special']   \n",
       "59996  ['avoid', 'one', 'terrible', 'movie', 'excitin...   \n",
       "59997  ['production', 'quite', 'surprise', 'absolutel...   \n",
       "59998  ['decent', 'movie', 'although', 'little', 'bit...   \n",
       "59999                                   ['satisfactory']   \n",
       "\n",
       "                                              lemmatized  \n",
       "0      paula may bitch ill never butch br br hilariou...  \n",
       "1      many people say show kid hm kid approximately ...  \n",
       "2      well write tale make batman sitcom actually re...  \n",
       "3      think movie absolutely beautiful im not refer ...  \n",
       "4      film outstanding despite nc17 rating disturb s...  \n",
       "...                                                  ...  \n",
       "59995                                    nothing special  \n",
       "59996  avoid one terrible movie excite pointless murd...  \n",
       "59997  production quite surprise absolutely love obsc...  \n",
       "59998  decent movie although little bit short time pa...  \n",
       "59999                                       satisfactory  \n",
       "\n",
       "[60000 rows x 7 columns]"
      ]
     },
     "execution_count": 2,
     "metadata": {},
     "output_type": "execute_result"
    }
   ],
   "source": [
    "csv_file = '../../data/data_processed.csv'\n",
    "df = pd.read_csv(csv_file)\n",
    "X = df['lemmatized']\n",
    "y = df['sentiment']\n",
    "df"
   ]
  },
  {
   "cell_type": "markdown",
   "id": "9a3f54db",
   "metadata": {},
   "source": [
    "### 3. Text to Numerical Features"
   ]
  },
  {
   "cell_type": "code",
   "execution_count": 3,
   "id": "d783a998",
   "metadata": {},
   "outputs": [],
   "source": [
    "vectorizer = TfidfVectorizer(max_features=20000)\n",
    "X_tfidf = vectorizer.fit_transform(X)\n"
   ]
  },
  {
   "cell_type": "markdown",
   "id": "c53073e4",
   "metadata": {},
   "source": [
    "### 4. Train-Test Split"
   ]
  },
  {
   "cell_type": "code",
   "execution_count": 4,
   "id": "fb1bffe0",
   "metadata": {},
   "outputs": [],
   "source": [
    "X_train, X_test, y_train, y_test = train_test_split(\n",
    "    X_tfidf, y, test_size=0.2, random_state=42\n",
    ")"
   ]
  },
  {
   "cell_type": "markdown",
   "id": "8db9cf8b",
   "metadata": {},
   "source": [
    "### 5. Train SVM"
   ]
  },
  {
   "cell_type": "code",
   "execution_count": 5,
   "id": "224c861c",
   "metadata": {},
   "outputs": [
    {
     "name": "stderr",
     "output_type": "stream",
     "text": [
      "Training Progress:   0%|          | 0/10 [00:00<?, ?it/s]"
     ]
    },
    {
     "name": "stderr",
     "output_type": "stream",
     "text": [
      "Training Progress: 100%|██████████| 10/10 [00:02<00:00,  3.49it/s]\n"
     ]
    }
   ],
   "source": [
    "from sklearn.linear_model import SGDClassifier\n",
    "from sklearn.utils import shuffle\n",
    "from tqdm import tqdm\n",
    "import numpy as np\n",
    "\n",
    "# Initialize model\n",
    "svm = SGDClassifier(\n",
    "    loss=\"hinge\",\n",
    "    penalty=\"l2\",\n",
    "    max_iter=1,  # we’ll control epochs manually\n",
    "    tol=None,\n",
    "    random_state=42\n",
    ")\n",
    "\n",
    "classes = np.unique(y_train)\n",
    "\n",
    "# Train for, say, 10 epochs with a tqdm progress bar\n",
    "for epoch in tqdm(range(10), desc=\"Training Progress\"):\n",
    "    X_shuff, y_shuff = shuffle(X_train, y_train, random_state=epoch)\n",
    "    svm.partial_fit(X_shuff, y_shuff, classes=classes)\n"
   ]
  },
  {
   "cell_type": "markdown",
   "id": "25cc5a2e",
   "metadata": {},
   "source": [
    "### 6. Evaluate"
   ]
  },
  {
   "cell_type": "code",
   "execution_count": null,
   "id": "1be9bae8",
   "metadata": {},
   "outputs": [],
   "source": [
    "y_pred = svm.predict(X_test)\n",
    "\n",
    "print(\"Accuracy:\", accuracy_score(y_test, y_pred))\n",
    "print(\"\\nClassification Report:\\n\", classification_report(y_test, y_pred))\n"
   ]
  },
  {
   "cell_type": "markdown",
   "id": "8fb8baa6",
   "metadata": {},
   "source": [
    "### 7. Test"
   ]
  },
  {
   "cell_type": "code",
   "execution_count": null,
   "id": "a448ba08",
   "metadata": {},
   "outputs": [],
   "source": [
    "test_sentences = [\n",
    "    \"This phone is amazing, I love the battery life!\",   # positive\n",
    "    \"Worst customer service I have ever experienced.\",   # negative\n",
    "    \"The product is okay, nothing special.\",             # neutral\n",
    "    \"Absolutely wonderful, exceeded my expectations!\",   # positive\n",
    "    \"Completely useless, broke after one use.\",          # negative\n",
    "]\n",
    "\n",
    "# Example of predicting\n",
    "X_test_tfidf = vectorizer.transform(test_sentences)\n",
    "predictions = svm.predict(X_test_tfidf)\n",
    "\n",
    "for sent, pred in zip(test_sentences, predictions):\n",
    "    print(f\"Text: {sent} --> Predicted sentiment: {pred}\")\n"
   ]
  }
 ],
 "metadata": {
  "kernelspec": {
   "display_name": "openv",
   "language": "python",
   "name": "python3"
  },
  "language_info": {
   "codemirror_mode": {
    "name": "ipython",
    "version": 3
   },
   "file_extension": ".py",
   "mimetype": "text/x-python",
   "name": "python",
   "nbconvert_exporter": "python",
   "pygments_lexer": "ipython3",
   "version": "3.12.3"
  }
 },
 "nbformat": 4,
 "nbformat_minor": 5
}
