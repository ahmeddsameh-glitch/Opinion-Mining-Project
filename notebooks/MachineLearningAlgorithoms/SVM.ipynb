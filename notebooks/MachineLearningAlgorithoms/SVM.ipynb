{
 "cells": [
  {
   "cell_type": "markdown",
   "id": "b282e685",
   "metadata": {},
   "source": [
    "### 1.Import "
   ]
  },
  {
   "cell_type": "code",
   "execution_count": null,
   "id": "e16f5b28",
   "metadata": {},
   "outputs": [],
   "source": [
    "import pandas as pd\n",
    "from sklearn.feature_extraction.text import TfidfVectorizer\n",
    "from sklearn.model_selection import train_test_split\n",
    "from sklearn.svm import SVC, LinearSVC\n",
    "from sklearn.metrics import classification_report, accuracy_score, confusion_matrix\n",
    "import seaborn as sns\n",
    "import matplotlib.pyplot as plt\n"
   ]
  },
  {
   "cell_type": "markdown",
   "id": "5c59dad5",
   "metadata": {},
   "source": [
    "### 2.Load & Prepare Data"
   ]
  },
  {
   "cell_type": "code",
   "execution_count": null,
   "id": "7c9a9d0a",
   "metadata": {},
   "outputs": [],
   "source": [
    "csv_file = '../../data/data_processed.csv'\n",
    "df = pd.read_csv(csv_file)\n",
    "X = df['lemmatized']\n",
    "y = df['sentiment']\n",
    "df"
   ]
  },
  {
   "cell_type": "markdown",
   "id": "9a3f54db",
   "metadata": {},
   "source": [
    "### 3. Text to Numerical Features"
   ]
  },
  {
   "cell_type": "code",
   "execution_count": null,
   "id": "d783a998",
   "metadata": {},
   "outputs": [],
   "source": [
    "vectorizer = TfidfVectorizer(max_features=20000)\n",
    "X_tfidf = vectorizer.fit_transform(X)\n"
   ]
  },
  {
   "cell_type": "markdown",
   "id": "c53073e4",
   "metadata": {},
   "source": [
    "### 4. Train-Test Split"
   ]
  },
  {
   "cell_type": "code",
   "execution_count": null,
   "id": "fb1bffe0",
   "metadata": {},
   "outputs": [],
   "source": [
    "X_train, X_test, y_train, y_test = train_test_split(\n",
    "    X_tfidf, y, test_size=0.2, random_state=42\n",
    ")"
   ]
  },
  {
   "cell_type": "markdown",
   "id": "8db9cf8b",
   "metadata": {},
   "source": [
    "### 5. Train SVM"
   ]
  },
  {
   "cell_type": "code",
   "execution_count": null,
   "id": "224c861c",
   "metadata": {},
   "outputs": [],
   "source": [
    "from sklearn.linear_model import SGDClassifier\n",
    "from sklearn.utils import shuffle\n",
    "from tqdm import tqdm\n",
    "import numpy as np\n",
    "\n",
    "# Initialize model\n",
    "svm = SGDClassifier(\n",
    "    loss=\"hinge\",\n",
    "    penalty=\"l2\",\n",
    "    max_iter=1,\n",
    "    tol=None,\n",
    "    random_state=42\n",
    ")\n",
    "\n",
    "classes = np.unique(y_train)\n",
    "\n",
    "n_epochs = 10\n",
    "batch_size = 2048\n",
    "steps_per_epoch = int(np.ceil(X_train.shape[0] / batch_size))\n",
    "total_steps = n_epochs * steps_per_epoch\n",
    "\n",
    "progress = tqdm(total=total_steps, desc=\"Training Progress\")\n",
    "\n",
    "for epoch in range(n_epochs):\n",
    "    X_shuff, y_shuff = shuffle(X_train, y_train, random_state=epoch)\n",
    "\n",
    "    for i in range(0, X_shuff.shape[0], batch_size):\n",
    "        X_batch = X_shuff[i:i+batch_size]\n",
    "        y_batch = y_shuff[i:i+batch_size]\n",
    "\n",
    "        svm.partial_fit(X_batch, y_batch, classes=classes)\n",
    "        progress.update(1)  # update global bar\n",
    "\n",
    "progress.close()\n"
   ]
  },
  {
   "cell_type": "markdown",
   "id": "25cc5a2e",
   "metadata": {},
   "source": [
    "### 6. Evaluate"
   ]
  },
  {
   "cell_type": "code",
   "execution_count": null,
   "id": "1be9bae8",
   "metadata": {},
   "outputs": [],
   "source": [
    "y_pred = svm.predict(X_test)\n",
    "\n",
    "print(\"Accuracy:\", accuracy_score(y_test, y_pred))\n",
    "print(\"\\nClassification Report:\\n\", classification_report(y_test, y_pred))\n"
   ]
  },
  {
   "cell_type": "markdown",
   "id": "8fb8baa6",
   "metadata": {},
   "source": [
    "### 7. Test"
   ]
  },
  {
   "cell_type": "code",
   "execution_count": 19,
   "id": "a448ba08",
   "metadata": {},
   "outputs": [
    {
     "name": "stdout",
     "output_type": "stream",
     "text": [
      "Text: This phone is amazing, I love the battery life! --> Predicted sentiment: positive\n",
      "Text: Worst customer service I have ever experienced. --> Predicted sentiment: negative\n",
      "Text: The product is okay, nothing special. --> Predicted sentiment: neutral\n",
      "Text: Absolutely wonderful, exceeded my expectations! --> Predicted sentiment: positive\n",
      "Text: Completely useless, broke after one use. --> Predicted sentiment: negative\n"
     ]
    }
   ],
   "source": [
    "test_sentences = [\n",
    "    \"This phone is amazing, I love the battery life!\",   # positive\n",
    "    \"Worst customer service I have ever experienced.\",   # negative\n",
    "    \"The product is okay, nothing special.\",             # neutral\n",
    "    \"Absolutely wonderful, exceeded my expectations!\",   # positive\n",
    "    \"Completely useless, broke after one use.\",          # negative\n",
    "]\n",
    "\n",
    "# Example of predicting\n",
    "X_test_tfidf = vectorizer.transform(test_sentences)\n",
    "predictions = svm.predict(X_test_tfidf)\n",
    "\n",
    "for sent, pred in zip(test_sentences, predictions):\n",
    "    print(f\"Text: {sent} --> Predicted sentiment: {pred}\")\n"
   ]
  },
  {
   "cell_type": "markdown",
   "id": "a643e9b9",
   "metadata": {},
   "source": [
    "### 8. Save model"
   ]
  },
  {
   "cell_type": "code",
   "execution_count": 21,
   "id": "de65d266",
   "metadata": {},
   "outputs": [
    {
     "data": {
      "text/plain": [
       "['../Models/svm_vectorizer.pkl']"
      ]
     },
     "execution_count": 21,
     "metadata": {},
     "output_type": "execute_result"
    }
   ],
   "source": [
    "import joblib\n",
    "\n",
    "joblib.dump(svm, \"../Models/svm_sentiment_model.pkl\")\n",
    "joblib.dump(vectorizer, \"../Models/svm_vectorizer.pkl\")\n",
    "\n"
   ]
  }
 ],
 "metadata": {
  "kernelspec": {
   "display_name": "openv",
   "language": "python",
   "name": "python3"
  },
  "language_info": {
   "codemirror_mode": {
    "name": "ipython",
    "version": 3
   },
   "file_extension": ".py",
   "mimetype": "text/x-python",
   "name": "python",
   "nbconvert_exporter": "python",
   "pygments_lexer": "ipython3",
   "version": "3.12.3"
  }
 },
 "nbformat": 4,
 "nbformat_minor": 5
}
