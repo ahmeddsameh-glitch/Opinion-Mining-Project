{
 "cells": [
  {
   "cell_type": "markdown",
   "id": "1c004e21",
   "metadata": {},
   "source": [
    "### 1. Gathering Data"
   ]
  },
  {
   "cell_type": "code",
   "execution_count": null,
   "id": "e9de1034",
   "metadata": {},
   "outputs": [],
   "source": [
    "import pandas as pd\n",
    "df=pd.read_csv(\"../../data/data_processed.csv\")\n",
    "df[\"lemmatized\"]\n",
    "df[\"sentiment\"]"
   ]
  },
  {
   "cell_type": "markdown",
   "id": "4f1451d1",
   "metadata": {},
   "source": [
    "### 2. Convert Labels to Numerical values"
   ]
  },
  {
   "cell_type": "code",
   "execution_count": null,
   "id": "ab1368c4",
   "metadata": {},
   "outputs": [],
   "source": [
    "# Convert label to sentiment score\n",
    "def label_to_score(label):\n",
    "    if label == 'positive':\n",
    "        return 1\n",
    "    elif label == 'neutral':\n",
    "        return 0.5\n",
    "    elif label == 'negative':\n",
    "        return 0\n",
    "    else:\n",
    "        return 0.5  \n",
    "\n",
    "df['sentiment_score'] = df['sentiment'].apply(label_to_score)\n",
    "df\n"
   ]
  },
  {
   "cell_type": "markdown",
   "id": "221e3e11",
   "metadata": {},
   "source": [
    "### 3. Define Fusion Model"
   ]
  },
  {
   "cell_type": "code",
   "execution_count": 7,
   "id": "e62add14",
   "metadata": {},
   "outputs": [],
   "source": [
    "import numpy as np\n",
    "from sklearn.feature_extraction.text import TfidfVectorizer\n",
    "\n",
    "class LinearLogisticFusion:\n",
    "    def __init__(self, alpha=0.5):\n",
    "        self.alpha = alpha\n",
    "        self.beta = None\n",
    "        self.vectorizer = TfidfVectorizer()\n",
    "\n",
    "    def fit(self, X_text, y):\n",
    "        # Convert text to vectors\n",
    "        X = self.vectorizer.fit_transform(X_text)\n",
    "        n_features = X.shape[1]\n",
    "        print(\"numbers of features\" , n_features)\n",
    "        # Initialize weights\n",
    "        self.beta = np.zeros(n_features + 1)\n",
    "\n",
    "        # Gradient descent (simplified)\n",
    "        lr = 0.01 # learning rate\n",
    "        for _ in range(500):\n",
    "             # 1. Linear part: z = Xw + b\n",
    "            z = self.linear_part(X)\n",
    "            # 2. Apply sigmoid to map linear output -> probability\n",
    "            p = self.sigmoid(z) # p = 1 / (1 + exp(-z))\n",
    "            # 3. Compute error (difference between true labels and predicted probs)\n",
    "            # Rule: error = y - p   (comes from gradient of log-loss)\n",
    "            error = y - p \n",
    "            # 4. Compute gradient for weights (not including bias)\n",
    "            # Rule: grad = (X^T * error) / N\n",
    "            grad = X.T.dot(error) / len(y)\n",
    "            # 5. Update weights using gradient descent\n",
    "            # Rule: w = w + lr * grad\n",
    "            self.beta[1:] += lr * np.ravel(grad)\n",
    "            # 6. Update bias (intercept term)\n",
    "            # Rule: b = b + lr * mean(error)\n",
    "            self.beta[0] += lr * np.mean(error)\n",
    "\n",
    "    def linear_part(self, X):\n",
    "        # Rule: z = Xw + b\n",
    "        # z = linear combination of features (like b0 + b1*x1 + b2*x2 ...)\n",
    "        return np.dot(X, self.beta[1:]) + self.beta[0]\n",
    "\n",
    "    def sigmoid(self, z):\n",
    "        # Rule: σ(z) = 1 / (1 + e^(-z))\n",
    "        # Maps linear output (z) to probability in range (0, 1)\n",
    "        return 1 / (1 + np.exp(-z))\n",
    "\n",
    "    def predict(self, X_text):\n",
    "        X = self.vectorizer.transform(X_text).toarray()\n",
    "        z = self.linear_part(X)        \n",
    "        p = self.sigmoid(z)            \n",
    "        # fusion = α * (linear output) + (1 - α) * (logistic probability)\n",
    "        fusion = self.alpha * z + (1 - self.alpha) * p  # fusion\n",
    "        # if fusion > 0.5 → class = 1 (positive)\n",
    "        # if fusion < 0.5 → class = 0 (negative)\n",
    "        # if fusion = 0.5 → class = 2 (neutral)\n",
    "        labels = np.where(fusion > 0.5, 2,\n",
    "              np.where(fusion < 0.5, 0, 1))\n",
    "\n",
    "        return labels, fusion\n"
   ]
  },
  {
   "cell_type": "markdown",
   "id": "7dde6971",
   "metadata": {},
   "source": [
    "### 4. Test"
   ]
  },
  {
   "cell_type": "code",
   "execution_count": null,
   "id": "4e0bbb98",
   "metadata": {},
   "outputs": [
    {
     "name": "stdout",
     "output_type": "stream",
     "text": [
      "numbers of features 148708\n"
     ]
    }
   ],
   "source": [
    "from sklearn.model_selection import train_test_split\n",
    "from sklearn.metrics import classification_report\n",
    "X_train, X_test, y_train, y_test = train_test_split(\n",
    "    df['lemmatized'].astype(str),\n",
    "    df['sentiment_score'],\n",
    "    test_size=0.2,\n",
    "    random_state=42\n",
    ")\n",
    "model = LinearLogisticFusion()\n",
    "model.fit(X_train, y_train)\n",
    "y_pred, fusion_scores = model.predict(X_test)\n",
    "\n",
    "print(\"=== Classification Report ===\")\n",
    "print(classification_report(y_test, y_pred))"
   ]
  }
 ],
 "metadata": {
  "kernelspec": {
   "display_name": "openv",
   "language": "python",
   "name": "python3"
  },
  "language_info": {
   "codemirror_mode": {
    "name": "ipython",
    "version": 3
   },
   "file_extension": ".py",
   "mimetype": "text/x-python",
   "name": "python",
   "nbconvert_exporter": "python",
   "pygments_lexer": "ipython3",
   "version": "3.12.3"
  }
 },
 "nbformat": 4,
 "nbformat_minor": 5
}
