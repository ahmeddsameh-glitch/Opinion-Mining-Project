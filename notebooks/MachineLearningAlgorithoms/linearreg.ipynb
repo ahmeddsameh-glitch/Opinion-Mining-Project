{
 "cells": [
  {
   "cell_type": "markdown",
   "id": "bcf6b069",
   "metadata": {},
   "source": [
    "# Linear Regression"
   ]
  },
  {
   "cell_type": "markdown",
   "id": "6a2f1f12",
   "metadata": {},
   "source": [
    "### 1. Gather Data"
   ]
  },
  {
   "cell_type": "code",
   "execution_count": null,
   "id": "a8354d80",
   "metadata": {},
   "outputs": [],
   "source": [
    "import pandas as pd\n",
    "\n",
    "\n",
    "# Path to your CSV file\n",
    "csv_file = '../../data/test_sample.csv'\n",
    "csv_file_bow = '../../data/bow_features.csv'\n",
    "# Read CSV into a DataFrame\n",
    "df = pd.read_csv(csv_file)\n",
    "\n",
    "df_bow= pd.read_csv(csv_file_bow)\n",
    "df"
   ]
  },
  {
   "cell_type": "markdown",
   "id": "31e053bd",
   "metadata": {},
   "source": [
    "### 2. Sample Training Data"
   ]
  },
  {
   "cell_type": "code",
   "execution_count": null,
   "id": "01008f0a",
   "metadata": {},
   "outputs": [],
   "source": [
    "import numpy as np\n",
    "import matplotlib.pyplot as plt\n",
    "\n",
    "# Step 1: Sample Training Data (x: house size, y: price)\n",
    "x = np.array([1000, 1500, 2000, 2500, 3000])  # in square feet\n",
    "y = np.array([200, 300, 400, 500, 600])       # in thousands $\n",
    "print(\"houses in square feet :\",x)\n",
    "print(\"prices in thousands :\",y)\n",
    "m = len(x)  # number of training examples"
   ]
  },
  {
   "cell_type": "markdown",
   "id": "5b7c29bd",
   "metadata": {},
   "source": [
    "### 3. Create x as a matrix (n+1 features)"
   ]
  },
  {
   "cell_type": "code",
   "execution_count": null,
   "id": "8026ff03",
   "metadata": {},
   "outputs": [],
   "source": [
    "# Step 2: Add x0 = 1 to each input to create x as a matrix (n+1 features)\n",
    "X = np.c_[np.ones(m), x]  # shape: (m, 2)\n",
    "print(\"x0 , x1\")\n",
    "print(X)\n",
    "# Step 3: Initialize theta as zero vector\n",
    "theta = np.zeros(2)  # [theta_0, theta_1]\n",
    "print(\"theta value : \",theta)"
   ]
  },
  {
   "cell_type": "markdown",
   "id": "bdac4f7f",
   "metadata": {},
   "source": [
    "### 4. Define hypothesis function"
   ]
  },
  {
   "cell_type": "code",
   "execution_count": 10,
   "id": "77cd2e33",
   "metadata": {},
   "outputs": [],
   "source": [
    "def h_theta(X, theta):\n",
    "    return np.dot(X, theta)"
   ]
  },
  {
   "cell_type": "markdown",
   "id": "69a7a634",
   "metadata": {},
   "source": [
    "### 5.Define cost function J(theta)"
   ]
  },
  {
   "cell_type": "code",
   "execution_count": 21,
   "id": "a8857f74",
   "metadata": {},
   "outputs": [],
   "source": [
    "def compute_cost(X, y, theta):\n",
    "    predictions = h_theta(X, theta)\n",
    "    errors = predictions - y\n",
    "    return (1 / (2 * m)) * np.dot(errors, errors)"
   ]
  },
  {
   "cell_type": "markdown",
   "id": "40a57f78",
   "metadata": {},
   "source": [
    "### 6.Gradient Descent"
   ]
  },
  {
   "cell_type": "code",
   "execution_count": 22,
   "id": "0c38f2fc",
   "metadata": {},
   "outputs": [],
   "source": [
    "def gradient_descent(X, y, theta, alpha, num_iters):\n",
    "    cost_history = []\n",
    "\n",
    "    for i in range(num_iters):\n",
    "        error = h_theta(X, theta) - y\n",
    "        gradient = (1 / m) * np.dot(X.T, error)\n",
    "        theta -= alpha * gradient\n",
    "\n",
    "        cost_history.append(compute_cost(X, y, theta))\n",
    "    \n",
    "    return theta, cost_history"
   ]
  },
  {
   "cell_type": "markdown",
   "id": "64060296",
   "metadata": {},
   "source": [
    "### 7. Run and Plotting the data"
   ]
  },
  {
   "cell_type": "code",
   "execution_count": null,
   "id": "4c6811f8",
   "metadata": {},
   "outputs": [],
   "source": [
    "alpha = 0.0000001  # learning rate\n",
    "num_iters = 1000\n",
    "\n",
    "theta_opt, cost_history = gradient_descent(X, y, theta, alpha, num_iters)\n",
    "\n",
    "print(\"Optimized theta:\", theta_opt)\n",
    "print(\"Final cost:\", cost_history[-1])\n",
    "plt.plot(cost_history)\n",
    "plt.xlabel(\"Iteration\")\n",
    "plt.ylabel(\"Cost J(θ)\")\n",
    "plt.title(\"Cost Function Convergence\")\n",
    "plt.grid(True)\n",
    "plt.show()"
   ]
  },
  {
   "cell_type": "markdown",
   "id": "b9dd9104",
   "metadata": {},
   "source": [
    "### 8. Plotting the Linear Regression Fit"
   ]
  },
  {
   "cell_type": "code",
   "execution_count": null,
   "id": "18717cce",
   "metadata": {},
   "outputs": [],
   "source": [
    "plt.scatter(x, y, label='Training Data')\n",
    "plt.plot(x, h_theta(X, theta_opt), color='red', label='Linear Regression')\n",
    "plt.xlabel(\"House Size (sq ft)\")\n",
    "plt.ylabel(\"Price ($1000s)\")\n",
    "plt.title(\"Linear Regression Fit\")\n",
    "plt.legend()\n",
    "plt.grid(True)\n",
    "plt.show()\n"
   ]
  }
 ],
 "metadata": {
  "kernelspec": {
   "display_name": "openv",
   "language": "python",
   "name": "python3"
  },
  "language_info": {
   "codemirror_mode": {
    "name": "ipython",
    "version": 3
   },
   "file_extension": ".py",
   "mimetype": "text/x-python",
   "name": "python",
   "nbconvert_exporter": "python",
   "pygments_lexer": "ipython3",
   "version": "3.10.12"
  }
 },
 "nbformat": 4,
 "nbformat_minor": 5
}
