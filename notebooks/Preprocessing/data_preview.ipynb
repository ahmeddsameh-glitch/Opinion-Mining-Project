{
 "cells": [
  {
   "cell_type": "markdown",
   "id": "7b93828c",
   "metadata": {
    "vscode": {
     "languageId": "plaintext"
    }
   },
   "source": [
    "# Gathering Data and Preprocessing"
   ]
  },
  {
   "cell_type": "markdown",
   "id": "45d11234",
   "metadata": {},
   "source": [
    "### 1. Gathering Data"
   ]
  },
  {
   "cell_type": "code",
   "execution_count": 1,
   "id": "d17f6eca",
   "metadata": {
    "ExecuteTime": {
     "end_time": "2025-07-25T06:41:38.697050Z",
     "start_time": "2025-07-25T06:41:38.443177Z"
    }
   },
   "outputs": [],
   "source": [
    "import pandas as pd\n",
    "import random\n",
    "\n",
    "# Number of neutral samples\n",
    "num_neutral = 10000\n",
    "\n",
    "# Pool of neutral phrases\n",
    "neutral_phrases = [\n",
    "    \"It is okay.\",\n",
    "    \"Average experience.\",\n",
    "    \"Nothing special.\",\n",
    "    \"Fine, nothing more.\",\n",
    "    \"It was acceptable.\",\n",
    "    \"Mediocre service.\",\n",
    "    \"Not bad, not great.\",\n",
    "    \"Could be better.\",\n",
    "    \"Ordinary experience.\",\n",
    "    \"Satisfactory.\"\n",
    "]\n",
    "\n",
    "# Randomly select 10k phrases\n",
    "neutral_texts = [random.choice(neutral_phrases) for _ in range(num_neutral)]\n",
    "\n",
    "# Create DataFrame\n",
    "neutral_df = pd.DataFrame({\n",
    "    'review': neutral_texts,\n",
    "    'sentiment': ['neutral'] * num_neutral\n",
    "})\n",
    "\n",
    "# Lowercase for consistency\n",
    "neutral_df['clean_text'] = neutral_df['review'].str.lower()\n"
   ]
  },
  {
   "cell_type": "code",
   "execution_count": 2,
   "id": "d8911086",
   "metadata": {
    "ExecuteTime": {
     "end_time": "2025-07-25T06:41:44.118597Z",
     "start_time": "2025-07-25T06:41:44.109844Z"
    }
   },
   "outputs": [
    {
     "name": "stdout",
     "output_type": "stream",
     "text": [
      "                                                  review sentiment\n",
      "0      One of the other reviewers has mentioned that ...  positive\n",
      "1      A wonderful little production. <br /><br />The...  positive\n",
      "2      I thought this was a wonderful way to spend ti...  positive\n",
      "3      Basically there's a family where a little boy ...  negative\n",
      "4      Petter Mattei's \"Love in the Time of Money\" is...  positive\n",
      "...                                                  ...       ...\n",
      "49995  I thought this movie did a down right good job...  positive\n",
      "49996  Bad plot, bad dialogue, bad acting, idiotic di...  negative\n",
      "49997  I am a Catholic taught in parochial elementary...  negative\n",
      "49998  I'm going to have to disagree with the previou...  negative\n",
      "49999  No one expects the Star Trek movies to be high...  negative\n",
      "\n",
      "[50000 rows x 2 columns]\n"
     ]
    }
   ],
   "source": [
    "import pandas as pd\n",
    "\n",
    "file_path = r'/home/ahmed-sameh/Opinion-Mining-Project/data/IMDB Dataset.csv'\n",
    "\n",
    "df = pd.read_csv(file_path)\n",
    "\n",
    "print(df)"
   ]
  },
  {
   "cell_type": "code",
   "execution_count": 3,
   "id": "98820ee2",
   "metadata": {},
   "outputs": [
    {
     "name": "stdout",
     "output_type": "stream",
     "text": [
      "Augmented dataset size: 60000\n"
     ]
    }
   ],
   "source": [
    "# Combine original dataset (50k) with neutral comments (10k)\n",
    "df_augmented = pd.concat([df, neutral_df], ignore_index=True)\n",
    "\n",
    "# Shuffle the dataset so neutral samples are not all at the end\n",
    "df_augmented = df_augmented.sample(frac=1, random_state=42).reset_index(drop=True)\n",
    "df = df_augmented\n",
    "print(\"Augmented dataset size:\", len(df))"
   ]
  },
  {
   "cell_type": "markdown",
   "id": "35116134",
   "metadata": {},
   "source": [
    "### 2. Lowercasing"
   ]
  },
  {
   "cell_type": "code",
   "execution_count": 4,
   "id": "8d63f224",
   "metadata": {
    "ExecuteTime": {
     "end_time": "2025-07-25T06:41:48.410939Z",
     "start_time": "2025-07-25T06:41:48.403873Z"
    }
   },
   "outputs": [
    {
     "name": "stdout",
     "output_type": "stream",
     "text": [
      "<class 'pandas.core.series.Series'>\n"
     ]
    },
    {
     "data": {
      "text/html": [
       "<div>\n",
       "<style scoped>\n",
       "    .dataframe tbody tr th:only-of-type {\n",
       "        vertical-align: middle;\n",
       "    }\n",
       "\n",
       "    .dataframe tbody tr th {\n",
       "        vertical-align: top;\n",
       "    }\n",
       "\n",
       "    .dataframe thead th {\n",
       "        text-align: right;\n",
       "    }\n",
       "</style>\n",
       "<table border=\"1\" class=\"dataframe\">\n",
       "  <thead>\n",
       "    <tr style=\"text-align: right;\">\n",
       "      <th></th>\n",
       "      <th>review</th>\n",
       "      <th>clean_text</th>\n",
       "    </tr>\n",
       "  </thead>\n",
       "  <tbody>\n",
       "    <tr>\n",
       "      <th>0</th>\n",
       "      <td>\"Paula, I may be a bitch, but I'll never be a ...</td>\n",
       "      <td>\"paula, i may be a bitch, but i'll never be a ...</td>\n",
       "    </tr>\n",
       "    <tr>\n",
       "      <th>1</th>\n",
       "      <td>Many people here say that this show is for kid...</td>\n",
       "      <td>many people here say that this show is for kid...</td>\n",
       "    </tr>\n",
       "    <tr>\n",
       "      <th>2</th>\n",
       "      <td>This was a well written tale of the Making of ...</td>\n",
       "      <td>this was a well written tale of the making of ...</td>\n",
       "    </tr>\n",
       "    <tr>\n",
       "      <th>3</th>\n",
       "      <td>I think this movie is absolutely beautiful. An...</td>\n",
       "      <td>i think this movie is absolutely beautiful. an...</td>\n",
       "    </tr>\n",
       "    <tr>\n",
       "      <th>4</th>\n",
       "      <td>The film was very outstanding despite the NC-1...</td>\n",
       "      <td>the film was very outstanding despite the nc-1...</td>\n",
       "    </tr>\n",
       "    <tr>\n",
       "      <th>...</th>\n",
       "      <td>...</td>\n",
       "      <td>...</td>\n",
       "    </tr>\n",
       "    <tr>\n",
       "      <th>59995</th>\n",
       "      <td>Nothing special.</td>\n",
       "      <td>nothing special.</td>\n",
       "    </tr>\n",
       "    <tr>\n",
       "      <th>59996</th>\n",
       "      <td>Avoid this one! It is a terrible movie. So wha...</td>\n",
       "      <td>avoid this one! it is a terrible movie. so wha...</td>\n",
       "    </tr>\n",
       "    <tr>\n",
       "      <th>59997</th>\n",
       "      <td>This production was quite a surprise for me. I...</td>\n",
       "      <td>this production was quite a surprise for me. i...</td>\n",
       "    </tr>\n",
       "    <tr>\n",
       "      <th>59998</th>\n",
       "      <td>This is a decent movie. Although little bit sh...</td>\n",
       "      <td>this is a decent movie. although little bit sh...</td>\n",
       "    </tr>\n",
       "    <tr>\n",
       "      <th>59999</th>\n",
       "      <td>Satisfactory.</td>\n",
       "      <td>satisfactory.</td>\n",
       "    </tr>\n",
       "  </tbody>\n",
       "</table>\n",
       "<p>60000 rows × 2 columns</p>\n",
       "</div>"
      ],
      "text/plain": [
       "                                                  review  \\\n",
       "0      \"Paula, I may be a bitch, but I'll never be a ...   \n",
       "1      Many people here say that this show is for kid...   \n",
       "2      This was a well written tale of the Making of ...   \n",
       "3      I think this movie is absolutely beautiful. An...   \n",
       "4      The film was very outstanding despite the NC-1...   \n",
       "...                                                  ...   \n",
       "59995                                   Nothing special.   \n",
       "59996  Avoid this one! It is a terrible movie. So wha...   \n",
       "59997  This production was quite a surprise for me. I...   \n",
       "59998  This is a decent movie. Although little bit sh...   \n",
       "59999                                      Satisfactory.   \n",
       "\n",
       "                                              clean_text  \n",
       "0      \"paula, i may be a bitch, but i'll never be a ...  \n",
       "1      many people here say that this show is for kid...  \n",
       "2      this was a well written tale of the making of ...  \n",
       "3      i think this movie is absolutely beautiful. an...  \n",
       "4      the film was very outstanding despite the nc-1...  \n",
       "...                                                  ...  \n",
       "59995                                   nothing special.  \n",
       "59996  avoid this one! it is a terrible movie. so wha...  \n",
       "59997  this production was quite a surprise for me. i...  \n",
       "59998  this is a decent movie. although little bit sh...  \n",
       "59999                                      satisfactory.  \n",
       "\n",
       "[60000 rows x 2 columns]"
      ]
     },
     "execution_count": 4,
     "metadata": {},
     "output_type": "execute_result"
    }
   ],
   "source": [
    "df['review'] \n",
    "print(type(df['review']))  \n",
    "df['clean_text'] = df['review'].apply(lambda word:word.lower())\n",
    "df[['review', 'clean_text']]\n"
   ]
  },
  {
   "cell_type": "markdown",
   "id": "426dcdce",
   "metadata": {},
   "source": [
    "###  3. Remove Punctuation and Symbols"
   ]
  },
  {
   "cell_type": "code",
   "execution_count": 5,
   "id": "cab41b54",
   "metadata": {
    "ExecuteTime": {
     "end_time": "2025-07-25T06:41:55.233369Z",
     "start_time": "2025-07-25T06:41:55.229058Z"
    }
   },
   "outputs": [
    {
     "name": "stdout",
     "output_type": "stream",
     "text": [
      "!\"#$%&'()*+,-./:;<=>?@[\\]^_`{|}~\n"
     ]
    },
    {
     "data": {
      "text/plain": [
       "0        paula i may be a bitch but ill never be a butc...\n",
       "1        many people here say that this show is for kid...\n",
       "2        this was a well written tale of the making of ...\n",
       "3        i think this movie is absolutely beautiful and...\n",
       "4        the film was very outstanding despite the nc17...\n",
       "                               ...                        \n",
       "59995                                      nothing special\n",
       "59996    avoid this one it is a terrible movie so what ...\n",
       "59997    this production was quite a surprise for me i ...\n",
       "59998    this is a decent movie although little bit sho...\n",
       "59999                                         satisfactory\n",
       "Name: clean_text, Length: 60000, dtype: object"
      ]
     },
     "execution_count": 5,
     "metadata": {},
     "output_type": "execute_result"
    }
   ],
   "source": [
    "import string\n",
    "print(string.punctuation)\n",
    "mytable = str.maketrans('','',string.punctuation)\n",
    "df['clean_text'] = df['clean_text'].apply(lambda word : word.translate(mytable)) \n",
    "df['clean_text']\n"
   ]
  },
  {
   "cell_type": "markdown",
   "id": "20f365c7",
   "metadata": {},
   "source": [
    "### 4. Remove Stopwords"
   ]
  },
  {
   "cell_type": "code",
   "execution_count": 6,
   "id": "a1fb0370",
   "metadata": {
    "ExecuteTime": {
     "end_time": "2025-07-25T06:41:58.297658Z",
     "start_time": "2025-07-25T06:41:57.416841Z"
    }
   },
   "outputs": [
    {
     "name": "stderr",
     "output_type": "stream",
     "text": [
      "[nltk_data] Downloading package stopwords to /home/ahmed-\n",
      "[nltk_data]     sameh/nltk_data...\n",
      "[nltk_data]   Package stopwords is already up-to-date!\n"
     ]
    },
    {
     "data": {
      "text/plain": [
       "0    paula may bitch ill never butch br br hilariou...\n",
       "1    many people say show kids hm kid approximately...\n",
       "2    well written tale making batman sitcom actuall...\n",
       "3    think movie absolutely beautiful im not referr...\n",
       "4    film outstanding despite nc17 rating disturbin...\n",
       "Name: no_stopwords, dtype: object"
      ]
     },
     "execution_count": 6,
     "metadata": {},
     "output_type": "execute_result"
    }
   ],
   "source": [
    "import nltk\n",
    "from nltk.corpus import stopwords\n",
    "\n",
    "# Download stopwords if needed\n",
    "nltk.download('stopwords')\n",
    "\n",
    "# Get English stopwords\n",
    "stop_words = set(stopwords.words('english'))\n",
    "\n",
    "# Keep important negations\n",
    "negations = {\"not\", \"no\", \"never\", \"none\"}\n",
    "stop_words = stop_words - negations\n",
    "\n",
    "# Remove stopwords but keep negations\n",
    "df['no_stopwords'] = df['clean_text'].apply(\n",
    "    lambda text: ' '.join(word for word in text.split() if word not in stop_words)\n",
    ")\n",
    "\n",
    "# Check the results\n",
    "df['no_stopwords'].head()"
   ]
  },
  {
   "cell_type": "markdown",
   "id": "38bd1831",
   "metadata": {},
   "source": [
    "### 5. Tokenization"
   ]
  },
  {
   "cell_type": "code",
   "execution_count": 7,
   "id": "29bee010",
   "metadata": {},
   "outputs": [
    {
     "name": "stdout",
     "output_type": "stream",
     "text": [
      "                                        no_stopwords  \\\n",
      "0  paula may bitch ill never butch br br hilariou...   \n",
      "1  many people say show kids hm kid approximately...   \n",
      "2  well written tale making batman sitcom actuall...   \n",
      "3  think movie absolutely beautiful im not referr...   \n",
      "4  film outstanding despite nc17 rating disturbin...   \n",
      "\n",
      "                                           tokenized  \n",
      "0  [paula, may, bitch, ill, never, butch, br, br,...  \n",
      "1  [many, people, say, show, kids, hm, kid, appro...  \n",
      "2  [well, written, tale, making, batman, sitcom, ...  \n",
      "3  [think, movie, absolutely, beautiful, im, not,...  \n",
      "4  [film, outstanding, despite, nc17, rating, dis...  \n",
      "Processed 60000 rows in 2.89 seconds\n",
      "Saved processed file to /home/ahmed-sameh/Opinion-Mining-Project/data/test_sample_processed.csv\n"
     ]
    },
    {
     "data": {
      "text/html": [
       "<div>\n",
       "<style scoped>\n",
       "    .dataframe tbody tr th:only-of-type {\n",
       "        vertical-align: middle;\n",
       "    }\n",
       "\n",
       "    .dataframe tbody tr th {\n",
       "        vertical-align: top;\n",
       "    }\n",
       "\n",
       "    .dataframe thead th {\n",
       "        text-align: right;\n",
       "    }\n",
       "</style>\n",
       "<table border=\"1\" class=\"dataframe\">\n",
       "  <thead>\n",
       "    <tr style=\"text-align: right;\">\n",
       "      <th></th>\n",
       "      <th>review</th>\n",
       "      <th>sentiment</th>\n",
       "      <th>clean_text</th>\n",
       "      <th>no_stopwords</th>\n",
       "      <th>tokenized</th>\n",
       "    </tr>\n",
       "  </thead>\n",
       "  <tbody>\n",
       "    <tr>\n",
       "      <th>0</th>\n",
       "      <td>\"Paula, I may be a bitch, but I'll never be a ...</td>\n",
       "      <td>negative</td>\n",
       "      <td>paula i may be a bitch but ill never be a butc...</td>\n",
       "      <td>paula may bitch ill never butch br br hilariou...</td>\n",
       "      <td>[paula, may, bitch, ill, never, butch, br, br,...</td>\n",
       "    </tr>\n",
       "    <tr>\n",
       "      <th>1</th>\n",
       "      <td>Many people here say that this show is for kid...</td>\n",
       "      <td>negative</td>\n",
       "      <td>many people here say that this show is for kid...</td>\n",
       "      <td>many people say show kids hm kid approximately...</td>\n",
       "      <td>[many, people, say, show, kids, hm, kid, appro...</td>\n",
       "    </tr>\n",
       "    <tr>\n",
       "      <th>2</th>\n",
       "      <td>This was a well written tale of the Making of ...</td>\n",
       "      <td>positive</td>\n",
       "      <td>this was a well written tale of the making of ...</td>\n",
       "      <td>well written tale making batman sitcom actuall...</td>\n",
       "      <td>[well, written, tale, making, batman, sitcom, ...</td>\n",
       "    </tr>\n",
       "    <tr>\n",
       "      <th>3</th>\n",
       "      <td>I think this movie is absolutely beautiful. An...</td>\n",
       "      <td>positive</td>\n",
       "      <td>i think this movie is absolutely beautiful and...</td>\n",
       "      <td>think movie absolutely beautiful im not referr...</td>\n",
       "      <td>[think, movie, absolutely, beautiful, im, not,...</td>\n",
       "    </tr>\n",
       "    <tr>\n",
       "      <th>4</th>\n",
       "      <td>The film was very outstanding despite the NC-1...</td>\n",
       "      <td>positive</td>\n",
       "      <td>the film was very outstanding despite the nc17...</td>\n",
       "      <td>film outstanding despite nc17 rating disturbin...</td>\n",
       "      <td>[film, outstanding, despite, nc17, rating, dis...</td>\n",
       "    </tr>\n",
       "    <tr>\n",
       "      <th>...</th>\n",
       "      <td>...</td>\n",
       "      <td>...</td>\n",
       "      <td>...</td>\n",
       "      <td>...</td>\n",
       "      <td>...</td>\n",
       "    </tr>\n",
       "    <tr>\n",
       "      <th>59995</th>\n",
       "      <td>Nothing special.</td>\n",
       "      <td>neutral</td>\n",
       "      <td>nothing special</td>\n",
       "      <td>nothing special</td>\n",
       "      <td>[nothing, special]</td>\n",
       "    </tr>\n",
       "    <tr>\n",
       "      <th>59996</th>\n",
       "      <td>Avoid this one! It is a terrible movie. So wha...</td>\n",
       "      <td>negative</td>\n",
       "      <td>avoid this one it is a terrible movie so what ...</td>\n",
       "      <td>avoid one terrible movie exciting pointless mu...</td>\n",
       "      <td>[avoid, one, terrible, movie, exciting, pointl...</td>\n",
       "    </tr>\n",
       "    <tr>\n",
       "      <th>59997</th>\n",
       "      <td>This production was quite a surprise for me. I...</td>\n",
       "      <td>positive</td>\n",
       "      <td>this production was quite a surprise for me i ...</td>\n",
       "      <td>production quite surprise absolutely love obsc...</td>\n",
       "      <td>[production, quite, surprise, absolutely, love...</td>\n",
       "    </tr>\n",
       "    <tr>\n",
       "      <th>59998</th>\n",
       "      <td>This is a decent movie. Although little bit sh...</td>\n",
       "      <td>positive</td>\n",
       "      <td>this is a decent movie although little bit sho...</td>\n",
       "      <td>decent movie although little bit short time pa...</td>\n",
       "      <td>[decent, movie, although, little, bit, short, ...</td>\n",
       "    </tr>\n",
       "    <tr>\n",
       "      <th>59999</th>\n",
       "      <td>Satisfactory.</td>\n",
       "      <td>neutral</td>\n",
       "      <td>satisfactory</td>\n",
       "      <td>satisfactory</td>\n",
       "      <td>[satisfactory]</td>\n",
       "    </tr>\n",
       "  </tbody>\n",
       "</table>\n",
       "<p>60000 rows × 5 columns</p>\n",
       "</div>"
      ],
      "text/plain": [
       "                                                  review sentiment  \\\n",
       "0      \"Paula, I may be a bitch, but I'll never be a ...  negative   \n",
       "1      Many people here say that this show is for kid...  negative   \n",
       "2      This was a well written tale of the Making of ...  positive   \n",
       "3      I think this movie is absolutely beautiful. An...  positive   \n",
       "4      The film was very outstanding despite the NC-1...  positive   \n",
       "...                                                  ...       ...   \n",
       "59995                                   Nothing special.   neutral   \n",
       "59996  Avoid this one! It is a terrible movie. So wha...  negative   \n",
       "59997  This production was quite a surprise for me. I...  positive   \n",
       "59998  This is a decent movie. Although little bit sh...  positive   \n",
       "59999                                      Satisfactory.   neutral   \n",
       "\n",
       "                                              clean_text  \\\n",
       "0      paula i may be a bitch but ill never be a butc...   \n",
       "1      many people here say that this show is for kid...   \n",
       "2      this was a well written tale of the making of ...   \n",
       "3      i think this movie is absolutely beautiful and...   \n",
       "4      the film was very outstanding despite the nc17...   \n",
       "...                                                  ...   \n",
       "59995                                    nothing special   \n",
       "59996  avoid this one it is a terrible movie so what ...   \n",
       "59997  this production was quite a surprise for me i ...   \n",
       "59998  this is a decent movie although little bit sho...   \n",
       "59999                                       satisfactory   \n",
       "\n",
       "                                            no_stopwords  \\\n",
       "0      paula may bitch ill never butch br br hilariou...   \n",
       "1      many people say show kids hm kid approximately...   \n",
       "2      well written tale making batman sitcom actuall...   \n",
       "3      think movie absolutely beautiful im not referr...   \n",
       "4      film outstanding despite nc17 rating disturbin...   \n",
       "...                                                  ...   \n",
       "59995                                    nothing special   \n",
       "59996  avoid one terrible movie exciting pointless mu...   \n",
       "59997  production quite surprise absolutely love obsc...   \n",
       "59998  decent movie although little bit short time pa...   \n",
       "59999                                       satisfactory   \n",
       "\n",
       "                                               tokenized  \n",
       "0      [paula, may, bitch, ill, never, butch, br, br,...  \n",
       "1      [many, people, say, show, kids, hm, kid, appro...  \n",
       "2      [well, written, tale, making, batman, sitcom, ...  \n",
       "3      [think, movie, absolutely, beautiful, im, not,...  \n",
       "4      [film, outstanding, despite, nc17, rating, dis...  \n",
       "...                                                  ...  \n",
       "59995                                 [nothing, special]  \n",
       "59996  [avoid, one, terrible, movie, exciting, pointl...  \n",
       "59997  [production, quite, surprise, absolutely, love...  \n",
       "59998  [decent, movie, although, little, bit, short, ...  \n",
       "59999                                     [satisfactory]  \n",
       "\n",
       "[60000 rows x 5 columns]"
      ]
     },
     "execution_count": 7,
     "metadata": {},
     "output_type": "execute_result"
    }
   ],
   "source": [
    "import re, time\n",
    "\n",
    "def tokenizer(text):\n",
    "    return re.findall(r'\\b\\w+\\b', str(text).lower())\n",
    "\n",
    "start = time.time()\n",
    "df['tokenized'] = df['no_stopwords'].fillna('').astype(str).apply(tokenizer)\n",
    "end = time.time()\n",
    "\n",
    "print(df[['no_stopwords', 'tokenized']].head())\n",
    "print(f\"Processed {len(df)} rows in {end - start:.2f} seconds\")\n",
    "\n",
    "output_path = \"/home/ahmed-sameh/Opinion-Mining-Project/data/test_sample_processed.csv\"\n",
    "df.to_csv(output_path, index=False)\n",
    "print(f\"Saved processed file to {output_path}\")\n",
    "df"
   ]
  },
  {
   "cell_type": "markdown",
   "id": "898e4aac",
   "metadata": {},
   "source": [
    "### 6. Lemmatization Function"
   ]
  },
  {
   "cell_type": "code",
   "execution_count": 8,
   "id": "877d949f",
   "metadata": {},
   "outputs": [
    {
     "name": "stderr",
     "output_type": "stream",
     "text": [
      "[nltk_data] Downloading package averaged_perceptron_tagger_eng to\n",
      "[nltk_data]     /home/ahmed-sameh/nltk_data...\n",
      "[nltk_data]   Package averaged_perceptron_tagger_eng is already up-to-\n",
      "[nltk_data]       date!\n",
      "[nltk_data] Downloading package wordnet to /home/ahmed-\n",
      "[nltk_data]     sameh/nltk_data...\n",
      "[nltk_data]   Package wordnet is already up-to-date!\n",
      "[nltk_data] Downloading package punkt_tab to /home/ahmed-\n",
      "[nltk_data]     sameh/nltk_data...\n",
      "[nltk_data]   Package punkt_tab is already up-to-date!\n"
     ]
    }
   ],
   "source": [
    "from nltk.stem import WordNetLemmatizer\n",
    "from nltk import pos_tag\n",
    "from nltk.corpus import wordnet\n",
    "from nltk.tokenize import word_tokenize\n",
    "import nltk\n",
    "nltk.download('averaged_perceptron_tagger_eng')\n",
    "nltk.download('wordnet')\n",
    "nltk.download('punkt_tab')\n",
    "def get_wordnet_pos(treebank_tag):\n",
    "    # Map POS tag to WordNet POS tag for lemmatizer\n",
    "    if treebank_tag.startswith('J'):\n",
    "        return wordnet.ADJ\n",
    "    elif treebank_tag.startswith('V'):\n",
    "        return wordnet.VERB\n",
    "    elif treebank_tag.startswith('N'):\n",
    "        return wordnet.NOUN\n",
    "    elif treebank_tag.startswith('R'):\n",
    "        return wordnet.ADV\n",
    "    else:\n",
    "        return wordnet.NOUN  # default\n",
    "def lemmatize_tokens(token_list):\n",
    "    #Takes a list of words (tokens) from your sentence.\n",
    "    #Assigns a Part-of-Speech (POS) tag to each word, like noun, verb, adjective, etc.\n",
    "    #Returns a list of tuples: (word, POS_tag) for every token.\n",
    "    pos_tags = pos_tag(token_list)\n",
    "    # print(\"POS tag : \",pos_tags)\n",
    "    lemmatizer = WordNetLemmatizer()\n",
    "    # print(lemmatizer)\n",
    "    lemmatized_sentence = []\n",
    "    for token, tag in pos_tags:\n",
    "        wn_tag = get_wordnet_pos(tag)\n",
    "        lemma = lemmatizer.lemmatize(token, wn_tag)\n",
    "        lemmatized_sentence.append(lemma)\n",
    "    \n",
    "    # print(\"Original:\", token_list)\n",
    "    # print(\"Lemmatized:\", \" \".join(lemmatized_sentence))\n",
    "    # \"bats\" → \"bat\"\n",
    "\n",
    "    # \"are\" → \"be\"\n",
    "\n",
    "    # \"hanging\" → \"hang\"\n",
    "\n",
    "    # \"feet\" → \"foot\"    \n",
    "    return lemmatized_sentence"
   ]
  },
  {
   "cell_type": "markdown",
   "id": "c2818b89",
   "metadata": {},
   "source": [
    "### 7. Lemmatization"
   ]
  },
  {
   "cell_type": "code",
   "execution_count": 9,
   "id": "e0611440",
   "metadata": {},
   "outputs": [
    {
     "name": "stderr",
     "output_type": "stream",
     "text": [
      "  0%|          | 0/60000 [00:00<?, ?it/s]"
     ]
    },
    {
     "name": "stderr",
     "output_type": "stream",
     "text": [
      "100%|██████████| 60000/60000 [06:04<00:00, 164.42it/s]\n",
      "100%|██████████| 60000/60000 [00:00<00:00, 293259.78it/s]\n"
     ]
    },
    {
     "name": "stdout",
     "output_type": "stream",
     "text": [
      "Time for 50k rows: 365.26 sec\n"
     ]
    }
   ],
   "source": [
    "import time\n",
    "from tqdm import tqdm\n",
    "start = time.time()\n",
    "tqdm.pandas()\n",
    "df['lemmatized'] = df['tokenized'].progress_apply(lemmatize_tokens)\n",
    "df['lemmatized'] = df['lemmatized'].progress_apply(lambda tokens: \" \".join(tokens))\n",
    "\n",
    "end = time.time()\n",
    "print(f\"Time for 50k rows: {end - start:.2f} sec\")"
   ]
  },
  {
   "cell_type": "markdown",
   "id": "1760c761",
   "metadata": {},
   "source": [
    "### 8. Save to CSV file"
   ]
  },
  {
   "cell_type": "code",
   "execution_count": 10,
   "id": "d94c4aab",
   "metadata": {},
   "outputs": [
    {
     "data": {
      "text/html": [
       "<div>\n",
       "<style scoped>\n",
       "    .dataframe tbody tr th:only-of-type {\n",
       "        vertical-align: middle;\n",
       "    }\n",
       "\n",
       "    .dataframe tbody tr th {\n",
       "        vertical-align: top;\n",
       "    }\n",
       "\n",
       "    .dataframe thead th {\n",
       "        text-align: right;\n",
       "    }\n",
       "</style>\n",
       "<table border=\"1\" class=\"dataframe\">\n",
       "  <thead>\n",
       "    <tr style=\"text-align: right;\">\n",
       "      <th></th>\n",
       "      <th>review</th>\n",
       "      <th>sentiment</th>\n",
       "      <th>clean_text</th>\n",
       "      <th>no_stopwords</th>\n",
       "      <th>tokenized</th>\n",
       "      <th>lemmatized</th>\n",
       "    </tr>\n",
       "  </thead>\n",
       "  <tbody>\n",
       "    <tr>\n",
       "      <th>0</th>\n",
       "      <td>\"Paula, I may be a bitch, but I'll never be a ...</td>\n",
       "      <td>negative</td>\n",
       "      <td>paula i may be a bitch but ill never be a butc...</td>\n",
       "      <td>paula may bitch ill never butch br br hilariou...</td>\n",
       "      <td>[paula, may, bitch, ill, never, butch, br, br,...</td>\n",
       "      <td>paula may bitch ill never butch br br hilariou...</td>\n",
       "    </tr>\n",
       "    <tr>\n",
       "      <th>1</th>\n",
       "      <td>Many people here say that this show is for kid...</td>\n",
       "      <td>negative</td>\n",
       "      <td>many people here say that this show is for kid...</td>\n",
       "      <td>many people say show kids hm kid approximately...</td>\n",
       "      <td>[many, people, say, show, kids, hm, kid, appro...</td>\n",
       "      <td>many people say show kid hm kid approximately ...</td>\n",
       "    </tr>\n",
       "    <tr>\n",
       "      <th>2</th>\n",
       "      <td>This was a well written tale of the Making of ...</td>\n",
       "      <td>positive</td>\n",
       "      <td>this was a well written tale of the making of ...</td>\n",
       "      <td>well written tale making batman sitcom actuall...</td>\n",
       "      <td>[well, written, tale, making, batman, sitcom, ...</td>\n",
       "      <td>well write tale make batman sitcom actually re...</td>\n",
       "    </tr>\n",
       "    <tr>\n",
       "      <th>3</th>\n",
       "      <td>I think this movie is absolutely beautiful. An...</td>\n",
       "      <td>positive</td>\n",
       "      <td>i think this movie is absolutely beautiful and...</td>\n",
       "      <td>think movie absolutely beautiful im not referr...</td>\n",
       "      <td>[think, movie, absolutely, beautiful, im, not,...</td>\n",
       "      <td>think movie absolutely beautiful im not refer ...</td>\n",
       "    </tr>\n",
       "    <tr>\n",
       "      <th>4</th>\n",
       "      <td>The film was very outstanding despite the NC-1...</td>\n",
       "      <td>positive</td>\n",
       "      <td>the film was very outstanding despite the nc17...</td>\n",
       "      <td>film outstanding despite nc17 rating disturbin...</td>\n",
       "      <td>[film, outstanding, despite, nc17, rating, dis...</td>\n",
       "      <td>film outstanding despite nc17 rating disturb s...</td>\n",
       "    </tr>\n",
       "    <tr>\n",
       "      <th>...</th>\n",
       "      <td>...</td>\n",
       "      <td>...</td>\n",
       "      <td>...</td>\n",
       "      <td>...</td>\n",
       "      <td>...</td>\n",
       "      <td>...</td>\n",
       "    </tr>\n",
       "    <tr>\n",
       "      <th>59995</th>\n",
       "      <td>Nothing special.</td>\n",
       "      <td>neutral</td>\n",
       "      <td>nothing special</td>\n",
       "      <td>nothing special</td>\n",
       "      <td>[nothing, special]</td>\n",
       "      <td>nothing special</td>\n",
       "    </tr>\n",
       "    <tr>\n",
       "      <th>59996</th>\n",
       "      <td>Avoid this one! It is a terrible movie. So wha...</td>\n",
       "      <td>negative</td>\n",
       "      <td>avoid this one it is a terrible movie so what ...</td>\n",
       "      <td>avoid one terrible movie exciting pointless mu...</td>\n",
       "      <td>[avoid, one, terrible, movie, exciting, pointl...</td>\n",
       "      <td>avoid one terrible movie excite pointless murd...</td>\n",
       "    </tr>\n",
       "    <tr>\n",
       "      <th>59997</th>\n",
       "      <td>This production was quite a surprise for me. I...</td>\n",
       "      <td>positive</td>\n",
       "      <td>this production was quite a surprise for me i ...</td>\n",
       "      <td>production quite surprise absolutely love obsc...</td>\n",
       "      <td>[production, quite, surprise, absolutely, love...</td>\n",
       "      <td>production quite surprise absolutely love obsc...</td>\n",
       "    </tr>\n",
       "    <tr>\n",
       "      <th>59998</th>\n",
       "      <td>This is a decent movie. Although little bit sh...</td>\n",
       "      <td>positive</td>\n",
       "      <td>this is a decent movie although little bit sho...</td>\n",
       "      <td>decent movie although little bit short time pa...</td>\n",
       "      <td>[decent, movie, although, little, bit, short, ...</td>\n",
       "      <td>decent movie although little bit short time pa...</td>\n",
       "    </tr>\n",
       "    <tr>\n",
       "      <th>59999</th>\n",
       "      <td>Satisfactory.</td>\n",
       "      <td>neutral</td>\n",
       "      <td>satisfactory</td>\n",
       "      <td>satisfactory</td>\n",
       "      <td>[satisfactory]</td>\n",
       "      <td>satisfactory</td>\n",
       "    </tr>\n",
       "  </tbody>\n",
       "</table>\n",
       "<p>60000 rows × 6 columns</p>\n",
       "</div>"
      ],
      "text/plain": [
       "                                                  review sentiment  \\\n",
       "0      \"Paula, I may be a bitch, but I'll never be a ...  negative   \n",
       "1      Many people here say that this show is for kid...  negative   \n",
       "2      This was a well written tale of the Making of ...  positive   \n",
       "3      I think this movie is absolutely beautiful. An...  positive   \n",
       "4      The film was very outstanding despite the NC-1...  positive   \n",
       "...                                                  ...       ...   \n",
       "59995                                   Nothing special.   neutral   \n",
       "59996  Avoid this one! It is a terrible movie. So wha...  negative   \n",
       "59997  This production was quite a surprise for me. I...  positive   \n",
       "59998  This is a decent movie. Although little bit sh...  positive   \n",
       "59999                                      Satisfactory.   neutral   \n",
       "\n",
       "                                              clean_text  \\\n",
       "0      paula i may be a bitch but ill never be a butc...   \n",
       "1      many people here say that this show is for kid...   \n",
       "2      this was a well written tale of the making of ...   \n",
       "3      i think this movie is absolutely beautiful and...   \n",
       "4      the film was very outstanding despite the nc17...   \n",
       "...                                                  ...   \n",
       "59995                                    nothing special   \n",
       "59996  avoid this one it is a terrible movie so what ...   \n",
       "59997  this production was quite a surprise for me i ...   \n",
       "59998  this is a decent movie although little bit sho...   \n",
       "59999                                       satisfactory   \n",
       "\n",
       "                                            no_stopwords  \\\n",
       "0      paula may bitch ill never butch br br hilariou...   \n",
       "1      many people say show kids hm kid approximately...   \n",
       "2      well written tale making batman sitcom actuall...   \n",
       "3      think movie absolutely beautiful im not referr...   \n",
       "4      film outstanding despite nc17 rating disturbin...   \n",
       "...                                                  ...   \n",
       "59995                                    nothing special   \n",
       "59996  avoid one terrible movie exciting pointless mu...   \n",
       "59997  production quite surprise absolutely love obsc...   \n",
       "59998  decent movie although little bit short time pa...   \n",
       "59999                                       satisfactory   \n",
       "\n",
       "                                               tokenized  \\\n",
       "0      [paula, may, bitch, ill, never, butch, br, br,...   \n",
       "1      [many, people, say, show, kids, hm, kid, appro...   \n",
       "2      [well, written, tale, making, batman, sitcom, ...   \n",
       "3      [think, movie, absolutely, beautiful, im, not,...   \n",
       "4      [film, outstanding, despite, nc17, rating, dis...   \n",
       "...                                                  ...   \n",
       "59995                                 [nothing, special]   \n",
       "59996  [avoid, one, terrible, movie, exciting, pointl...   \n",
       "59997  [production, quite, surprise, absolutely, love...   \n",
       "59998  [decent, movie, although, little, bit, short, ...   \n",
       "59999                                     [satisfactory]   \n",
       "\n",
       "                                              lemmatized  \n",
       "0      paula may bitch ill never butch br br hilariou...  \n",
       "1      many people say show kid hm kid approximately ...  \n",
       "2      well write tale make batman sitcom actually re...  \n",
       "3      think movie absolutely beautiful im not refer ...  \n",
       "4      film outstanding despite nc17 rating disturb s...  \n",
       "...                                                  ...  \n",
       "59995                                    nothing special  \n",
       "59996  avoid one terrible movie excite pointless murd...  \n",
       "59997  production quite surprise absolutely love obsc...  \n",
       "59998  decent movie although little bit short time pa...  \n",
       "59999                                       satisfactory  \n",
       "\n",
       "[60000 rows x 6 columns]"
      ]
     },
     "execution_count": 10,
     "metadata": {},
     "output_type": "execute_result"
    }
   ],
   "source": [
    "df.to_csv(\"../../data/data_processed.csv\")\n",
    "df"
   ]
  }
 ],
 "metadata": {
  "kernelspec": {
   "display_name": "openv",
   "language": "python",
   "name": "python3"
  },
  "language_info": {
   "codemirror_mode": {
    "name": "ipython",
    "version": 3
   },
   "file_extension": ".py",
   "mimetype": "text/x-python",
   "name": "python",
   "nbconvert_exporter": "python",
   "pygments_lexer": "ipython3",
   "version": "3.12.3"
  }
 },
 "nbformat": 4,
 "nbformat_minor": 5
}
